{
  "nbformat": 4,
  "nbformat_minor": 0,
  "metadata": {
    "colab": {
      "provenance": [],
      "authorship_tag": "ABX9TyPS+LrkQCQy8gBV8lpSE+7b",
      "include_colab_link": true
    },
    "kernelspec": {
      "name": "python3",
      "display_name": "Python 3"
    },
    "language_info": {
      "name": "python"
    }
  },
  "cells": [
    {
      "cell_type": "markdown",
      "metadata": {
        "id": "view-in-github",
        "colab_type": "text"
      },
      "source": [
        "<a href=\"https://colab.research.google.com/github/olga-terekhova/pdf-utilities/blob/main/SplitPDF.ipynb\" target=\"_parent\"><img src=\"https://colab.research.google.com/assets/colab-badge.svg\" alt=\"Open In Colab\"/></a>"
      ]
    },
    {
      "cell_type": "markdown",
      "source": [
        "# Split PDF"
      ],
      "metadata": {
        "id": "QATY_5426QX7"
      }
    },
    {
      "cell_type": "markdown",
      "source": [
        "## How to use"
      ],
      "metadata": {
        "id": "cDzvKMtO6S30"
      }
    },
    {
      "cell_type": "markdown",
      "source": [
        "To **split** a PDF file into a range of pages:  \n",
        "1) Prepare the PDF file that you want to split.  \n",
        "2) Upload the pdf file that you want to split into the root directory of Files area. Upload one file only. E.g. *input.pdf*.  \n",
        "3) In the [Set parameters](#scrollTo=XaMoALpy6JHx&line=1&uniqifier=1) section, set the preferred prefix for the output pdfs. E.g. *output.pdf*, which will generate *output_1.pdf*, *output_2.pdf*, etc.   \n",
        "4) In the [Set parameters](#scrollTo=XaMoALpy6JHx&line=1&uniqifier=1) section, set *'split'* for the choice between *split* or *delete* (you may use the  dropdown field).  \n",
        "5) In the [Set parameters](#scrollTo=XaMoALpy6JHx&line=1&uniqifier=1) section, specify a list of pages to be split into. You can use comma (,) for individual pages or dash (-) for ranges. Spaces are allowed but not needed. Start and end of the ranges are inclusive. Ranges can overlap, so that one page can be in several output files. E.g. *'1,3'* (will split into 2 files) or *'1,5-7,9'* (will split into 3 files) or *'2, 5,5-10'* (will split into 3 files).     \n",
        "6) Run all cells in the notebook (Runtime - Run all or Ctrl-F9).  \n",
        "7) Download the output pdfs from the Files area (Refresh to see the newly created split files).\n",
        "\n",
        "\n",
        "If you need to split another file, **delete** current PDF files first.\n",
        "For that:  \n",
        "1) In the [Set parameters](#scrollTo=XaMoALpy6JHx&line=1&uniqifier=1) section, set 'delete' for the choice between split or delete (you may use the dropdown field).  \n",
        "2) Run all cells in the notebook (Runtime - Run all or Ctrl-F9).  "
      ],
      "metadata": {
        "id": "XjHkd6_W6XyT"
      }
    },
    {
      "cell_type": "code",
      "execution_count": 15,
      "metadata": {
        "colab": {
          "base_uri": "https://localhost:8080/"
        },
        "id": "XaMoALpy6JHx",
        "outputId": "01b43e47-e02d-4935-adcd-792e6e7299a2"
      },
      "outputs": [
        {
          "output_type": "stream",
          "name": "stdout",
          "text": [
            "output.pdf\n",
            "delete\n",
            "1,1-3, 3-5\n"
          ]
        }
      ],
      "source": [
        "# @title Set parameters\n",
        "\n",
        "split_pdf_path = 'output.pdf' # @param {type:\"string\"}\n",
        "split_or_delete = \"split\" # @param [\"split\", \"delete\"]\n",
        "page_range = \"1,1-3, 3-5\" # @param {type:\"string\"}\n",
        "\n",
        "print(split_pdf_path)\n",
        "print(split_or_delete)\n",
        "print(page_range)"
      ]
    },
    {
      "cell_type": "markdown",
      "source": [
        "## Code (you can collapse this section)"
      ],
      "metadata": {
        "id": "gcLg2L2y7jWs"
      }
    },
    {
      "cell_type": "markdown",
      "source": [
        "### Install, import, initialize  "
      ],
      "metadata": {
        "id": "bRxjUp1Q7m-6"
      }
    },
    {
      "cell_type": "code",
      "source": [
        "!pip install -q PyPDF2"
      ],
      "metadata": {
        "id": "gCu5akWe7rEF"
      },
      "execution_count": 16,
      "outputs": []
    },
    {
      "cell_type": "code",
      "source": [
        "import os\n",
        "import PyPDF2"
      ],
      "metadata": {
        "id": "zqM3wX-k7twr"
      },
      "execution_count": 17,
      "outputs": []
    },
    {
      "cell_type": "markdown",
      "source": [
        "### Rotate the PDF file"
      ],
      "metadata": {
        "id": "OVFOXea37wez"
      }
    },
    {
      "cell_type": "code",
      "source": [
        "def get_file():\n",
        "  \"\"\"\n",
        "  Get the first PDF file in the current directory.\n",
        "  Return the file name and a message.\n",
        "  \"\"\"\n",
        "  pdf_files = []\n",
        "  for filename in os.listdir():\n",
        "      if filename.endswith('.pdf'):\n",
        "          pdf_files.append(filename)\n",
        "\n",
        "  if split_pdf_path in pdf_files:\n",
        "    return \"\", \"File \" + split_pdf_path + \" already exists. No action taken. Do you want to delete PDF files first?\"\n",
        "\n",
        "  if len(pdf_files) == 0:\n",
        "    return \"\", \"No PDF files found. No action taken.\"\n",
        "\n",
        "  # sort pdf_files in the alphabetical order\n",
        "  pdf_files.sort()\n",
        "\n",
        "  # take the first PDF file\n",
        "  pdf_file = pdf_files[0]\n",
        "  print(pdf_file)\n",
        "\n",
        "  return pdf_file, \"OK\""
      ],
      "metadata": {
        "id": "KJeIcxTo9CH9"
      },
      "execution_count": 18,
      "outputs": []
    },
    {
      "cell_type": "code",
      "source": [
        "def parse_page_range(page_range):\n",
        "    \"\"\"\n",
        "    Parse a string like '2, 5-7,9' into a list of page numbers.\n",
        "\n",
        "    :param page_range: String representing the page range. Input by the user.\n",
        "    Return a list of page intervals.\n",
        "    \"\"\"\n",
        "\n",
        "    intervals = []\n",
        "\n",
        "    # Remove all spaces from the input string\n",
        "    page_range = page_range.replace(' ', '')\n",
        "\n",
        "    # Split the string by commas\n",
        "    ranges = page_range.split(',')\n",
        "\n",
        "    for r in ranges:\n",
        "        if '-' in r:\n",
        "            start, end = map(int, r.split('-'))\n",
        "            intervals.append((start - 1, end))  # Convert to 0-based index for start\n",
        "        else:\n",
        "            page = int(r) - 1  # Convert to 0-based index\n",
        "            intervals.append((page, page + 1))\n",
        "\n",
        "\n",
        "    return intervals"
      ],
      "metadata": {
        "id": "cxTLouX-8KOp"
      },
      "execution_count": 19,
      "outputs": []
    },
    {
      "cell_type": "code",
      "source": [
        "def split_selected_pages(output_pdf, page_range):\n",
        "    \"\"\"\n",
        "    Split selected pages in the PDF into separate PDF files.\n",
        "\n",
        "    :param output_pdf: Path to output PDF. Input by the user.\n",
        "    :param page_range: Pages to split in string format (e.g., '2,5-7,9'). Input by the user.\n",
        "\n",
        "    Return a message.\n",
        "    \"\"\"\n",
        "\n",
        "    # Get the input PDF file (a first PDF file found in the root directory)\n",
        "    input_pdf, input_pdf_response = get_file()\n",
        "    if input_pdf == \"\": # no file to process\n",
        "      print(input_pdf_response)\n",
        "      return input_pdf_response\n",
        "\n",
        "    # Parse the page into intervals\n",
        "    intervals = parse_page_range(page_range)\n",
        "\n",
        "    # Open the PDF file\n",
        "    with open(input_pdf, 'rb') as file:\n",
        "        reader = PyPDF2.PdfReader(file)\n",
        "        output_files = []\n",
        "\n",
        "        # Loop through the intervals and create separate PDF files for each\n",
        "        for idx, (start, end) in enumerate(intervals):\n",
        "            writer = PyPDF2.PdfWriter()\n",
        "\n",
        "            for page_num in range(start, end):\n",
        "                if page_num < len(reader.pages):  # Ensure page is within the document\n",
        "                    writer.add_page(reader.pages[page_num])\n",
        "\n",
        "            # Define the output PDF filename for this interval\n",
        "            output_filename = f\"{os.path.splitext(output_pdf)[0]}_{idx + 1}.pdf\"\n",
        "            output_files.append(output_filename)\n",
        "\n",
        "            # Write the split pages to a new PDF\n",
        "            with open(output_filename, 'wb') as output_file:\n",
        "                writer.write(output_file)\n",
        "\n",
        "\n",
        "    message = \"Split pages saved as:\\n\" + \", \".join(output_files) + \\\n",
        "              \"\\n\\nRefresh the Files area and locate \" + \", \".join(output_files) + \".\"\n",
        "    print(message)\n",
        "    return message"
      ],
      "metadata": {
        "id": "W3ebWHQI8u-3"
      },
      "execution_count": 20,
      "outputs": []
    },
    {
      "cell_type": "markdown",
      "source": [
        "### Delete all PDF files from Files"
      ],
      "metadata": {
        "id": "zIKXB37oB7Tu"
      }
    },
    {
      "cell_type": "code",
      "source": [
        "def delete_pdfs():\n",
        "  \"\"\"\n",
        "  Delete all PDF files in the current directory.\n",
        "  Return a message.\n",
        "  \"\"\"\n",
        "\n",
        "  # Create a list of all PDF files in the current directory\n",
        "  pdf_files = []\n",
        "  for filename in os.listdir():\n",
        "      if filename.endswith('.pdf'):\n",
        "          pdf_files.append(filename)\n",
        "\n",
        "  print(pdf_files)\n",
        "\n",
        "  if len(pdf_files) == 0:\n",
        "    return \"No PDF files found. No action taken.\"\n",
        "\n",
        "  # Delete all files in the pdf_files\n",
        "\n",
        "  for filename in pdf_files:\n",
        "      os.remove(filename)\n",
        "\n",
        "  pdf_files_str = ', \\n'.join(pdf_files)\n",
        "\n",
        "  return \"Files deleted:\\n\" + pdf_files_str + \"\\n\\nRefresh the Files area and check that it has no PDF files.\""
      ],
      "metadata": {
        "id": "lRBO3zNZB9bd"
      },
      "execution_count": 21,
      "outputs": []
    },
    {
      "cell_type": "markdown",
      "source": [
        "### Run the chosen option"
      ],
      "metadata": {
        "id": "1K1NMQo0Aw6E"
      }
    },
    {
      "cell_type": "code",
      "source": [
        "# Run the split or delete process depending on the user choice\n",
        "if split_or_delete == \"split\":\n",
        "  result = split_selected_pages(split_pdf_path, page_range)\n",
        "elif split_or_delete == \"delete\":\n",
        "  result = delete_pdfs()"
      ],
      "metadata": {
        "colab": {
          "base_uri": "https://localhost:8080/"
        },
        "id": "yx_Dz-95AvnN",
        "outputId": "4fd8dbe9-2b36-42e0-80f0-6d2cc37eb1a6"
      },
      "execution_count": 22,
      "outputs": [
        {
          "output_type": "stream",
          "name": "stdout",
          "text": [
            "['output_1.pdf', 'output_2.pdf', 'Medical Forms - Filled.pdf', 'output_3.pdf']\n"
          ]
        }
      ]
    },
    {
      "cell_type": "markdown",
      "source": [
        "## Result"
      ],
      "metadata": {
        "id": "HjhAsEuICZ-s"
      }
    },
    {
      "cell_type": "code",
      "source": [
        "print(result)"
      ],
      "metadata": {
        "colab": {
          "base_uri": "https://localhost:8080/"
        },
        "id": "F2iRUT7cCcz5",
        "outputId": "bb3113b7-24ea-4775-f8e0-d141d9cc8ead"
      },
      "execution_count": 23,
      "outputs": [
        {
          "output_type": "stream",
          "name": "stdout",
          "text": [
            "Files deleted:\n",
            "output_1.pdf, \n",
            "output_2.pdf, \n",
            "Medical Forms - Filled.pdf, \n",
            "output_3.pdf\n",
            "\n",
            "Refresh the Files area and check that it has no PDF files.\n"
          ]
        }
      ]
    }
  ]
}
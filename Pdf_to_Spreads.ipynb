{
  "nbformat": 4,
  "nbformat_minor": 0,
  "metadata": {
    "colab": {
      "provenance": [],
      "authorship_tag": "ABX9TyM0sbEGi2mHfF+EMr/4cHUl",
      "include_colab_link": true
    },
    "kernelspec": {
      "name": "python3",
      "display_name": "Python 3"
    },
    "language_info": {
      "name": "python"
    }
  },
  "cells": [
    {
      "cell_type": "markdown",
      "metadata": {
        "id": "view-in-github",
        "colab_type": "text"
      },
      "source": [
        "<a href=\"https://colab.research.google.com/github/olga-terekhova/pdf-utilities/blob/main/Pdf_to_Spreads.ipynb\" target=\"_parent\"><img src=\"https://colab.research.google.com/assets/colab-badge.svg\" alt=\"Open In Colab\"/></a>"
      ]
    },
    {
      "cell_type": "markdown",
      "source": [
        "# User Guide"
      ],
      "metadata": {
        "id": "c_D8wnHoqmoU"
      }
    },
    {
      "cell_type": "markdown",
      "source": [
        "This is a notebook that converts a PDF file with one page per spread (optimized for printing) into a PDF file with two pages per spread (optimized for reading on screen).  \n",
        "\n",
        "Steps:"
      ],
      "metadata": {
        "id": "EBFe1mm30QJ0"
      }
    },
    {
      "cell_type": "markdown",
      "source": [
        "1. Upload a pdf file into Google Colab:  \n",
        "≡ Menu on the left - 📁 Files - ⬆️ Upload to session storage.  \n",
        "Put the file right in the root, not in any subfolders.\n",
        "\n",
        "2. Change the book name of the file here (including the 'pdf' extenstion):\n"
      ],
      "metadata": {
        "id": "uAbQsWK1xt7_"
      }
    },
    {
      "cell_type": "code",
      "source": [
        "book_name = 'kartinkakh_dlya_malyshey.pdf' "
      ],
      "metadata": {
        "id": "N6vWtU5CyLWI"
      },
      "execution_count": null,
      "outputs": []
    },
    {
      "cell_type": "markdown",
      "source": [
        "3. Should there be two pages per spread?  \n",
        "If Yes: change double_page to True.  \n",
        "If No: change double_page to False."
      ],
      "metadata": {
        "id": "Zu-JWUHsyczm"
      }
    },
    {
      "cell_type": "code",
      "source": [
        "double_page = True "
      ],
      "metadata": {
        "id": "Fy57WN2Fyrfn"
      },
      "execution_count": null,
      "outputs": []
    },
    {
      "cell_type": "markdown",
      "source": [
        "4. If there are two pages per spread, should double-paged spreads start from the first page?  \n",
        "If Yes: change double_start to 1  \n",
        "If No: change double_start to 2  \n",
        "If there is only one page per spread, this parameter can be any value  "
      ],
      "metadata": {
        "id": "PaIM6NKAyuN9"
      }
    },
    {
      "cell_type": "code",
      "source": [
        "double_start = 1"
      ],
      "metadata": {
        "id": "fT03M-npzGMI"
      },
      "execution_count": null,
      "outputs": []
    },
    {
      "cell_type": "markdown",
      "source": [
        "5. Set the width of one page in points. If you put around 2000, that's quite good quality allowing for some zoom in."
      ],
      "metadata": {
        "id": "CmCpnDhRzIc5"
      }
    },
    {
      "cell_type": "code",
      "source": [
        "page_width = 2000"
      ],
      "metadata": {
        "id": "fMWbUQ9jzR-T"
      },
      "execution_count": null,
      "outputs": []
    },
    {
      "cell_type": "markdown",
      "source": [
        "6. You may set a limit for PDF generation for testing purposes. If you see that the book ends abruptly, check that this parameter is greater than the number of pages. "
      ],
      "metadata": {
        "id": "_-sNN-2xzURx"
      }
    },
    {
      "cell_type": "code",
      "execution_count": null,
      "metadata": {
        "id": "VJfkaT2qiLm8"
      },
      "outputs": [],
      "source": [
        "last_page_pdf = 100 "
      ]
    },
    {
      "cell_type": "markdown",
      "source": [
        "7. Choose Runtime - Run all or press Ctrl-F9.  \n",
        "You can collapse the Code body section (press the triangle on the left of the heading) and watch for progress in the Result section.   \n",
        "In the Result section you should see the message with the number of spreads in the final book and the name of the new file.  \n",
        "Go to Files in the menu on the left to download the new file. \n",
        "\n",
        "8. To process a new file, just start from Step 1. "
      ],
      "metadata": {
        "id": "KJpDcNXZzoq_"
      }
    },
    {
      "cell_type": "markdown",
      "source": [
        "# Code body"
      ],
      "metadata": {
        "id": "l7_FeXPQqsSa"
      }
    },
    {
      "cell_type": "markdown",
      "source": [
        "## Constants"
      ],
      "metadata": {
        "id": "ih7LPqqVxJbe"
      }
    },
    {
      "cell_type": "code",
      "source": [
        "# Constants\n",
        "\n",
        "result_ok = \"Finished\"\n",
        "output_folder = 'output_pages'"
      ],
      "metadata": {
        "id": "Gcth0I5sjt7V"
      },
      "execution_count": null,
      "outputs": []
    },
    {
      "cell_type": "markdown",
      "source": [
        "## Set up installations using Shell"
      ],
      "metadata": {
        "id": "Hyt6dBooxE2x"
      }
    },
    {
      "cell_type": "code",
      "source": [
        "# Create output folder for pics\n",
        "\n",
        "!mkdir \"$output_folder\""
      ],
      "metadata": {
        "id": "-DbDWY6XQGcl"
      },
      "execution_count": null,
      "outputs": []
    },
    {
      "cell_type": "code",
      "source": [
        "# Install poppler-utils - needed for the pdf2image library\n",
        "\n",
        "!apt-get install poppler-utils"
      ],
      "metadata": {
        "colab": {
          "base_uri": "https://localhost:8080/"
        },
        "id": "F4Dtqq4-MFAi",
        "outputId": "35999115-e234-4321-c0d2-fef488da8e01"
      },
      "execution_count": null,
      "outputs": [
        {
          "output_type": "stream",
          "name": "stdout",
          "text": [
            "Reading package lists... Done\n",
            "Building dependency tree       \n",
            "Reading state information... Done\n",
            "The following NEW packages will be installed:\n",
            "  poppler-utils\n",
            "0 upgraded, 1 newly installed, 0 to remove and 24 not upgraded.\n",
            "Need to get 174 kB of archives.\n",
            "After this operation, 754 kB of additional disk space will be used.\n",
            "Get:1 http://archive.ubuntu.com/ubuntu focal-updates/main amd64 poppler-utils amd64 0.86.1-0ubuntu1.1 [174 kB]\n",
            "Fetched 174 kB in 2s (108 kB/s)\n",
            "Selecting previously unselected package poppler-utils.\n",
            "(Reading database ... 122518 files and directories currently installed.)\n",
            "Preparing to unpack .../poppler-utils_0.86.1-0ubuntu1.1_amd64.deb ...\n",
            "Unpacking poppler-utils (0.86.1-0ubuntu1.1) ...\n",
            "Setting up poppler-utils (0.86.1-0ubuntu1.1) ...\n",
            "Processing triggers for man-db (2.9.1-1) ...\n"
          ]
        }
      ]
    },
    {
      "cell_type": "code",
      "source": [
        "# Install libraries\n",
        "\n",
        "!pip install pdf2image"
      ],
      "metadata": {
        "colab": {
          "base_uri": "https://localhost:8080/"
        },
        "id": "TzeYLri6suWP",
        "outputId": "a51de8b7-09d3-467b-8f89-9a51d9c7f212"
      },
      "execution_count": null,
      "outputs": [
        {
          "output_type": "stream",
          "name": "stdout",
          "text": [
            "Looking in indexes: https://pypi.org/simple, https://us-python.pkg.dev/colab-wheels/public/simple/\n",
            "Collecting pdf2image\n",
            "  Downloading pdf2image-1.16.3-py3-none-any.whl (11 kB)\n",
            "Requirement already satisfied: pillow in /usr/local/lib/python3.10/dist-packages (from pdf2image) (8.4.0)\n",
            "Installing collected packages: pdf2image\n",
            "Successfully installed pdf2image-1.16.3\n"
          ]
        }
      ]
    },
    {
      "cell_type": "markdown",
      "source": [
        "## Import libraries"
      ],
      "metadata": {
        "id": "wiCBcLjOxSOV"
      }
    },
    {
      "cell_type": "code",
      "source": [
        "# Import libraries\n",
        "\n",
        "from pdf2image import convert_from_path, convert_from_bytes\n",
        "from PIL import Image\n",
        "from io import BytesIO\n",
        "import math\n",
        "import os\n"
      ],
      "metadata": {
        "id": "QUyLo-27sraT"
      },
      "execution_count": null,
      "outputs": []
    },
    {
      "cell_type": "markdown",
      "source": [
        "## Convert from PDF into images and back to PDF"
      ],
      "metadata": {
        "id": "6HDECMvwxWzW"
      }
    },
    {
      "cell_type": "code",
      "source": [
        "# Convert PDF into images and return the list of the paths\n",
        "\n",
        "image_list = convert_from_bytes(open(book_name, 'rb').read(), size=page_width, output_folder = output_folder, output_file = 'page', paths_only= True)\n",
        "print(image_list)"
      ],
      "metadata": {
        "colab": {
          "base_uri": "https://localhost:8080/"
        },
        "id": "vZhH7yFfu8aV",
        "outputId": "e6f8002c-97f9-47cb-9a50-68d9753a7fea"
      },
      "execution_count": null,
      "outputs": [
        {
          "output_type": "stream",
          "name": "stdout",
          "text": [
            "['output_pages/page0001-01.ppm', 'output_pages/page0001-02.ppm', 'output_pages/page0001-03.ppm', 'output_pages/page0001-04.ppm', 'output_pages/page0001-05.ppm', 'output_pages/page0001-06.ppm', 'output_pages/page0001-07.ppm', 'output_pages/page0001-08.ppm', 'output_pages/page0001-09.ppm', 'output_pages/page0001-10.ppm', 'output_pages/page0001-11.ppm', 'output_pages/page0001-12.ppm', 'output_pages/page0001-13.ppm', 'output_pages/page0001-14.ppm', 'output_pages/page0001-15.ppm', 'output_pages/page0001-16.ppm', 'output_pages/page0001-17.ppm', 'output_pages/page0001-18.ppm', 'output_pages/page0001-19.ppm', 'output_pages/page0001-20.ppm', 'output_pages/page0001-21.ppm', 'output_pages/page0001-22.ppm', 'output_pages/page0001-23.ppm', 'output_pages/page0001-24.ppm', 'output_pages/page0001-25.ppm', 'output_pages/page0001-26.ppm', 'output_pages/page0001-27.ppm', 'output_pages/page0001-28.ppm', 'output_pages/page0001-29.ppm', 'output_pages/page0001-30.ppm', 'output_pages/page0001-31.ppm', 'output_pages/page0001-32.ppm', 'output_pages/page0001-33.ppm', 'output_pages/page0001-34.ppm', 'output_pages/page0001-35.ppm', 'output_pages/page0001-36.ppm', 'output_pages/page0001-37.ppm', 'output_pages/page0001-38.ppm', 'output_pages/page0001-39.ppm', 'output_pages/page0001-40.ppm', 'output_pages/page0001-41.ppm', 'output_pages/page0001-42.ppm', 'output_pages/page0001-43.ppm', 'output_pages/page0001-44.ppm', 'output_pages/page0001-45.ppm', 'output_pages/page0001-46.ppm', 'output_pages/page0001-47.ppm', 'output_pages/page0001-48.ppm', 'output_pages/page0001-49.ppm', 'output_pages/page0001-50.ppm', 'output_pages/page0001-51.ppm', 'output_pages/page0001-52.ppm', 'output_pages/page0001-53.ppm', 'output_pages/page0001-54.ppm', 'output_pages/page0001-55.ppm', 'output_pages/page0001-56.ppm', 'output_pages/page0001-57.ppm', 'output_pages/page0001-58.ppm', 'output_pages/page0001-59.ppm', 'output_pages/page0001-60.ppm', 'output_pages/page0001-61.ppm', 'output_pages/page0001-62.ppm', 'output_pages/page0001-63.ppm', 'output_pages/page0001-64.ppm', 'output_pages/page0001-65.ppm', 'output_pages/page0001-66.ppm', 'output_pages/page0001-67.ppm', 'output_pages/page0001-68.ppm', 'output_pages/page0001-69.ppm', 'output_pages/page0001-70.ppm', 'output_pages/page0001-71.ppm', 'output_pages/page0001-72.ppm', 'output_pages/page0001-73.ppm', 'output_pages/page0001-74.ppm', 'output_pages/page0001-75.ppm', 'output_pages/page0001-76.ppm', 'output_pages/page0001-77.ppm', 'output_pages/page0001-78.ppm', 'output_pages/page0001-79.ppm', 'output_pages/page0001-80.ppm', 'output_pages/page0001-81.ppm', 'output_pages/page0001-82.ppm', 'output_pages/page0001-83.ppm', 'output_pages/page0001-84.ppm', 'output_pages/page0001-85.ppm', 'output_pages/page0001-86.ppm', 'output_pages/page0001-87.ppm', 'output_pages/page0001-88.ppm', 'output_pages/page0001-89.ppm', 'output_pages/page0001-90.ppm', 'output_pages/page0001-91.ppm', 'output_pages/page0001-92.ppm', 'output_pages/page0001-93.ppm', 'output_pages/page0001-94.ppm', 'output_pages/page0001-95.ppm', 'output_pages/page0001-96.ppm', 'output_pages/page0001-97.ppm', 'output_pages/page0001-98.ppm']\n"
          ]
        }
      ]
    },
    {
      "cell_type": "code",
      "source": [
        "# Calculate the number of pages\n",
        "\n",
        "total_pages_cnt = len(image_list)\n",
        "\n",
        "print(total_pages_cnt)\n",
        "\n",
        "# If there's a limit for pages generated, cap the number of pages\n",
        "\n",
        "total_pages = min(last_page_pdf, total_pages_cnt)  \n",
        "print (total_pages)"
      ],
      "metadata": {
        "colab": {
          "base_uri": "https://localhost:8080/"
        },
        "id": "vMFVrruaj6SM",
        "outputId": "691de7a8-ce03-4647-a6fb-d45090a9ac7c"
      },
      "execution_count": null,
      "outputs": [
        {
          "output_type": "stream",
          "name": "stdout",
          "text": [
            "98\n",
            "98\n"
          ]
        }
      ]
    },
    {
      "cell_type": "code",
      "source": [
        "# Calculate the number of spreads\n",
        "\n",
        "if double_page:\n",
        "    if double_start == 1:\n",
        "        spread_number = math.ceil(total_pages / 2)\n",
        "    elif double_start == 2:\n",
        "        spread_number = math.ceil((total_pages + 1) / 2)\n",
        "    else:\n",
        "        print('Invalid value for double_start')\n",
        "else:\n",
        "    spread_number = total_pages\n",
        "\n",
        "print(f'Number of spreads: {spread_number}')"
      ],
      "metadata": {
        "colab": {
          "base_uri": "https://localhost:8080/"
        },
        "id": "DCm3whUskOxF",
        "outputId": "900990d8-1db2-4b92-8906-caa9d83a7fb6"
      },
      "execution_count": null,
      "outputs": [
        {
          "output_type": "stream",
          "name": "stdout",
          "text": [
            "Number of spreads: 49\n"
          ]
        }
      ]
    },
    {
      "cell_type": "code",
      "source": [
        "# Assign page paths to spreads\n",
        "\n",
        "spread_list = []\n",
        "for i in range ( 1, spread_number + 1): \n",
        "  if double_page == False: \n",
        "    spread_list.append([image_list[i - 1]])\n",
        "  elif double_page == True and double_start == 1:\n",
        "    page_num_left = (i * 2) - 1\n",
        "    page_num_right = (i * 2) \n",
        "    if page_num_left == 0:\n",
        "      spread_list.append([image_list[page_num_right - 1] ])\n",
        "    elif page_num_right > total_pages:\n",
        "      spread_list.append([image_list[page_num_left - 1] ])\n",
        "    else:\n",
        "      spread_list.append([image_list[page_num_left - 1], image_list[page_num_right - 1]])\n",
        "  elif double_page == True and double_start == 2:\n",
        "    page_num_left = (i * 2) - 2\n",
        "    page_num_right = (i * 2) - 1\n",
        "    if page_num_left == 0:\n",
        "      spread_list.append([image_list[page_num_right - 1] ])\n",
        "    elif page_num_right > total_pages:\n",
        "      spread_list.append([image_list[page_num_left - 1]])\n",
        "    else:\n",
        "      spread_list.append([image_list[page_num_left - 1], image_list[page_num_right - 1]])\n",
        "\n",
        "print (spread_list)"
      ],
      "metadata": {
        "colab": {
          "base_uri": "https://localhost:8080/"
        },
        "id": "vGX8VnEvkxwX",
        "outputId": "0440d2a8-791d-45ce-e731-f25fe8c831fe"
      },
      "execution_count": null,
      "outputs": [
        {
          "output_type": "stream",
          "name": "stdout",
          "text": [
            "[['output_pages/page0001-01.ppm', 'output_pages/page0001-02.ppm'], ['output_pages/page0001-03.ppm', 'output_pages/page0001-04.ppm'], ['output_pages/page0001-05.ppm', 'output_pages/page0001-06.ppm'], ['output_pages/page0001-07.ppm', 'output_pages/page0001-08.ppm'], ['output_pages/page0001-09.ppm', 'output_pages/page0001-10.ppm'], ['output_pages/page0001-11.ppm', 'output_pages/page0001-12.ppm'], ['output_pages/page0001-13.ppm', 'output_pages/page0001-14.ppm'], ['output_pages/page0001-15.ppm', 'output_pages/page0001-16.ppm'], ['output_pages/page0001-17.ppm', 'output_pages/page0001-18.ppm'], ['output_pages/page0001-19.ppm', 'output_pages/page0001-20.ppm'], ['output_pages/page0001-21.ppm', 'output_pages/page0001-22.ppm'], ['output_pages/page0001-23.ppm', 'output_pages/page0001-24.ppm'], ['output_pages/page0001-25.ppm', 'output_pages/page0001-26.ppm'], ['output_pages/page0001-27.ppm', 'output_pages/page0001-28.ppm'], ['output_pages/page0001-29.ppm', 'output_pages/page0001-30.ppm'], ['output_pages/page0001-31.ppm', 'output_pages/page0001-32.ppm'], ['output_pages/page0001-33.ppm', 'output_pages/page0001-34.ppm'], ['output_pages/page0001-35.ppm', 'output_pages/page0001-36.ppm'], ['output_pages/page0001-37.ppm', 'output_pages/page0001-38.ppm'], ['output_pages/page0001-39.ppm', 'output_pages/page0001-40.ppm'], ['output_pages/page0001-41.ppm', 'output_pages/page0001-42.ppm'], ['output_pages/page0001-43.ppm', 'output_pages/page0001-44.ppm'], ['output_pages/page0001-45.ppm', 'output_pages/page0001-46.ppm'], ['output_pages/page0001-47.ppm', 'output_pages/page0001-48.ppm'], ['output_pages/page0001-49.ppm', 'output_pages/page0001-50.ppm'], ['output_pages/page0001-51.ppm', 'output_pages/page0001-52.ppm'], ['output_pages/page0001-53.ppm', 'output_pages/page0001-54.ppm'], ['output_pages/page0001-55.ppm', 'output_pages/page0001-56.ppm'], ['output_pages/page0001-57.ppm', 'output_pages/page0001-58.ppm'], ['output_pages/page0001-59.ppm', 'output_pages/page0001-60.ppm'], ['output_pages/page0001-61.ppm', 'output_pages/page0001-62.ppm'], ['output_pages/page0001-63.ppm', 'output_pages/page0001-64.ppm'], ['output_pages/page0001-65.ppm', 'output_pages/page0001-66.ppm'], ['output_pages/page0001-67.ppm', 'output_pages/page0001-68.ppm'], ['output_pages/page0001-69.ppm', 'output_pages/page0001-70.ppm'], ['output_pages/page0001-71.ppm', 'output_pages/page0001-72.ppm'], ['output_pages/page0001-73.ppm', 'output_pages/page0001-74.ppm'], ['output_pages/page0001-75.ppm', 'output_pages/page0001-76.ppm'], ['output_pages/page0001-77.ppm', 'output_pages/page0001-78.ppm'], ['output_pages/page0001-79.ppm', 'output_pages/page0001-80.ppm'], ['output_pages/page0001-81.ppm', 'output_pages/page0001-82.ppm'], ['output_pages/page0001-83.ppm', 'output_pages/page0001-84.ppm'], ['output_pages/page0001-85.ppm', 'output_pages/page0001-86.ppm'], ['output_pages/page0001-87.ppm', 'output_pages/page0001-88.ppm'], ['output_pages/page0001-89.ppm', 'output_pages/page0001-90.ppm'], ['output_pages/page0001-91.ppm', 'output_pages/page0001-92.ppm'], ['output_pages/page0001-93.ppm', 'output_pages/page0001-94.ppm'], ['output_pages/page0001-95.ppm', 'output_pages/page0001-96.ppm'], ['output_pages/page0001-97.ppm', 'output_pages/page0001-98.ppm']]\n"
          ]
        }
      ]
    },
    {
      "cell_type": "code",
      "source": [
        "# Define function to generate name for the new PDF file \n",
        "\n",
        "def convert_book_name(filename):\n",
        "    base_name, extension = os.path.splitext(filename)\n",
        "    new_filename = base_name + \"_spreads\" + extension\n",
        "    return new_filename"
      ],
      "metadata": {
        "id": "ZxA72FxmohxE"
      },
      "execution_count": null,
      "outputs": []
    },
    {
      "cell_type": "code",
      "source": [
        "# Save pictures as PDF\n",
        "\n",
        "book_name_spreads = convert_book_name(book_name)\n",
        "\n",
        "for index, spread_link in enumerate(spread_list):\n",
        "  \n",
        "  print(index + 1)\n",
        "\n",
        "  # If one page per spread, open one page:\n",
        "\n",
        "  if len(spread_link) == 1:\n",
        "    url_pic = spread_link[0]\n",
        "    img = Image.open(spread_link[0])\n",
        "        \n",
        "  # If two pages per spread, open two pages and merge them:\n",
        "\n",
        "  elif len(spread_link) == 2:\n",
        "    \n",
        "    # Open pictures\n",
        "    img1 = Image.open(spread_link[0])\n",
        "    img2 = Image.open(spread_link[1])\n",
        "    \n",
        "    # Resize the images to have the same height\n",
        "    height = min(img1.height, img2.height)\n",
        "    img1 = img1.resize((int(img1.width * height / img1.height), height))\n",
        "    img2 = img2.resize((int(img2.width * height / img2.height), height))\n",
        "\n",
        "    # Create a new image to hold the merged images\n",
        "    img = Image.new('RGB', (img1.width + img2.width, height))\n",
        "\n",
        "    # Paste the images side by side\n",
        "    img.paste(img1, (0, 0))\n",
        "    img.paste(img2, (img1.width, 0))\n",
        "\n",
        "    # Close intermediary pictures\n",
        "    img1.close()\n",
        "    img2.close()\n",
        "\n",
        "  else:\n",
        "    print(\"Wrong array\")\n",
        "    break\n",
        "\n",
        "  # Save into PDF (new for the first spread, append for subsequent ones)\n",
        "\n",
        "  if index == 0:\n",
        "    img.save(book_name_spreads, \"PDF\" ,resolution=100.0, append = False)\n",
        "  else:\n",
        "    img.save(book_name_spreads, \"PDF\" ,resolution=100.0, save_all=True, append = True)\n",
        "  img.close()\n",
        "\n",
        "print('Finished')"
      ],
      "metadata": {
        "colab": {
          "base_uri": "https://localhost:8080/"
        },
        "id": "i8oyu4o0ligK",
        "outputId": "c252f7d4-26f9-4d86-a837-85414f3ab8c9"
      },
      "execution_count": null,
      "outputs": [
        {
          "output_type": "stream",
          "name": "stdout",
          "text": [
            "1\n",
            "2\n",
            "3\n",
            "4\n",
            "5\n",
            "6\n",
            "7\n",
            "8\n",
            "9\n",
            "10\n",
            "11\n",
            "12\n",
            "13\n",
            "14\n",
            "15\n",
            "16\n",
            "17\n",
            "18\n",
            "19\n",
            "20\n",
            "21\n",
            "22\n",
            "23\n",
            "24\n",
            "25\n",
            "26\n",
            "27\n",
            "28\n",
            "29\n",
            "30\n",
            "31\n",
            "32\n",
            "33\n",
            "34\n",
            "35\n",
            "36\n",
            "37\n",
            "38\n",
            "39\n",
            "40\n",
            "41\n",
            "42\n",
            "43\n",
            "44\n",
            "45\n",
            "46\n",
            "47\n",
            "48\n",
            "49\n",
            "Finished\n"
          ]
        }
      ]
    },
    {
      "cell_type": "markdown",
      "source": [
        "## Remove temp files using Shell"
      ],
      "metadata": {
        "id": "E_3MNI_S1x5n"
      }
    },
    {
      "cell_type": "code",
      "source": [
        "# Removing temp files\n",
        "\n",
        "!rm -r \"$output_folder\""
      ],
      "metadata": {
        "id": "BpEUo-l1p_ts"
      },
      "execution_count": null,
      "outputs": []
    },
    {
      "cell_type": "markdown",
      "source": [
        "# Result"
      ],
      "metadata": {
        "id": "g95F212CqwgN"
      }
    },
    {
      "cell_type": "code",
      "source": [
        "# End messages\n",
        "\n",
        "print(result_ok)\n",
        "print('Spreads: ', spread_number)\n",
        "print('File generated: ', book_name_spreads)"
      ],
      "metadata": {
        "colab": {
          "base_uri": "https://localhost:8080/"
        },
        "id": "VqNdvkl7qy1L",
        "outputId": "0917f327-5a7b-4997-c323-09e1c7e6836d"
      },
      "execution_count": null,
      "outputs": [
        {
          "output_type": "stream",
          "name": "stdout",
          "text": [
            "Завершено\n",
            "Разворотов:  49\n",
            "Сформирован файл:  kartinkakh_dlya_malyshey_spreads.pdf\n"
          ]
        }
      ]
    }
  ]
}
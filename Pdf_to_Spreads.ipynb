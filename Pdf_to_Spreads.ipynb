{
  "nbformat": 4,
  "nbformat_minor": 0,
  "metadata": {
    "colab": {
      "provenance": [],
      "authorship_tag": "ABX9TyN/zfYNEmjYjaZ4A4fe0INd",
      "include_colab_link": true
    },
    "kernelspec": {
      "name": "python3",
      "display_name": "Python 3"
    },
    "language_info": {
      "name": "python"
    }
  },
  "cells": [
    {
      "cell_type": "markdown",
      "metadata": {
        "id": "view-in-github",
        "colab_type": "text"
      },
      "source": [
        "<a href=\"https://colab.research.google.com/github/olga-terekhova/pdf-utilities/blob/main/Pdf_to_Spreads.ipynb\" target=\"_parent\"><img src=\"https://colab.research.google.com/assets/colab-badge.svg\" alt=\"Open In Colab\"/></a>"
      ]
    },
    {
      "cell_type": "markdown",
      "source": [
        "# User Guide"
      ],
      "metadata": {
        "id": "c_D8wnHoqmoU"
      }
    },
    {
      "cell_type": "markdown",
      "source": [
        "This is a notebook that converts a PDF file with one page per spread (optimized for printing) into a PDF file with two pages per spread (optimized for reading on screen).  \n",
        "\n",
        "Steps:"
      ],
      "metadata": {
        "id": "EBFe1mm30QJ0"
      }
    },
    {
      "cell_type": "markdown",
      "source": [
        "1. Upload a pdf file into Google Colab:  \n",
        "≡ Menu on the left - 📁 Files - ⬆️ Upload to session storage.  \n",
        "Put the file right in the root, not in any subfolders.\n",
        "\n",
        "2. Change the book name of the file here (including the 'pdf' extenstion):\n"
      ],
      "metadata": {
        "id": "uAbQsWK1xt7_"
      }
    },
    {
      "cell_type": "code",
      "source": [
        "book_name = 'MapsR.pdf' "
      ],
      "metadata": {
        "id": "N6vWtU5CyLWI"
      },
      "execution_count": 12,
      "outputs": []
    },
    {
      "cell_type": "markdown",
      "source": [
        "3. Should there be two pages per spread?  \n",
        "If Yes: change double_page to True.  \n",
        "If No: change double_page to False."
      ],
      "metadata": {
        "id": "Zu-JWUHsyczm"
      }
    },
    {
      "cell_type": "code",
      "source": [
        "double_page = True "
      ],
      "metadata": {
        "id": "Fy57WN2Fyrfn"
      },
      "execution_count": 13,
      "outputs": []
    },
    {
      "cell_type": "markdown",
      "source": [
        "4. If there are two pages per spread, should double-paged spreads start from the first page?  \n",
        "If Yes: change double_start to 1  \n",
        "If No: change double_start to 2  \n",
        "If there is only one page per spread, this parameter can be any value  "
      ],
      "metadata": {
        "id": "PaIM6NKAyuN9"
      }
    },
    {
      "cell_type": "code",
      "source": [
        "double_start = 1"
      ],
      "metadata": {
        "id": "fT03M-npzGMI"
      },
      "execution_count": 14,
      "outputs": []
    },
    {
      "cell_type": "markdown",
      "source": [
        "5. Set the width of one page in points. If you put around 2000, that's quite good quality allowing for some zoom in."
      ],
      "metadata": {
        "id": "CmCpnDhRzIc5"
      }
    },
    {
      "cell_type": "code",
      "source": [
        "page_width = 2000"
      ],
      "metadata": {
        "id": "fMWbUQ9jzR-T"
      },
      "execution_count": 15,
      "outputs": []
    },
    {
      "cell_type": "markdown",
      "source": [
        "6. You may set a limit for PDF generation for testing purposes. If you see that the book ends abruptly, check that this parameter is greater than the number of pages. "
      ],
      "metadata": {
        "id": "_-sNN-2xzURx"
      }
    },
    {
      "cell_type": "code",
      "execution_count": 16,
      "metadata": {
        "id": "VJfkaT2qiLm8"
      },
      "outputs": [],
      "source": [
        "last_page_pdf = 100 "
      ]
    },
    {
      "cell_type": "markdown",
      "source": [
        "7. Choose Runtime - Run all or press Ctrl-F9.  \n",
        "You can collapse the Code body section (press the triangle on the left of the heading) and watch for progress in the Result section.   \n",
        "In the Result section you should see the message with the number of spreads in the final book and the name of the new file.  \n",
        "Go to Files in the menu on the left to download the new file. \n",
        "\n",
        "8. To process a new file, just start from Step 1. "
      ],
      "metadata": {
        "id": "KJpDcNXZzoq_"
      }
    },
    {
      "cell_type": "markdown",
      "source": [
        "# Code body"
      ],
      "metadata": {
        "id": "l7_FeXPQqsSa"
      }
    },
    {
      "cell_type": "markdown",
      "source": [
        "## Constants"
      ],
      "metadata": {
        "id": "ih7LPqqVxJbe"
      }
    },
    {
      "cell_type": "code",
      "source": [
        "# Constants\n",
        "\n",
        "result_ok = \"Finished\"\n",
        "output_folder = 'output_pages'"
      ],
      "metadata": {
        "id": "Gcth0I5sjt7V"
      },
      "execution_count": 17,
      "outputs": []
    },
    {
      "cell_type": "markdown",
      "source": [
        "## Set up installations using Shell"
      ],
      "metadata": {
        "id": "Hyt6dBooxE2x"
      }
    },
    {
      "cell_type": "code",
      "source": [
        "# Create output folder for pics\n",
        "\n",
        "!mkdir \"$output_folder\""
      ],
      "metadata": {
        "id": "-DbDWY6XQGcl",
        "colab": {
          "base_uri": "https://localhost:8080/"
        },
        "outputId": "d86d3dc3-0c1f-4dbb-d950-955fd3724a6a"
      },
      "execution_count": 18,
      "outputs": [
        {
          "output_type": "stream",
          "name": "stdout",
          "text": [
            "mkdir: cannot create directory ‘output_pages’: File exists\n"
          ]
        }
      ]
    },
    {
      "cell_type": "code",
      "source": [
        "# Install poppler-utils - needed for the pdf2image library\n",
        "\n",
        "!apt-get install poppler-utils"
      ],
      "metadata": {
        "colab": {
          "base_uri": "https://localhost:8080/"
        },
        "id": "F4Dtqq4-MFAi",
        "outputId": "98982085-bb7e-4e57-c827-84aac5f24e94"
      },
      "execution_count": 19,
      "outputs": [
        {
          "output_type": "stream",
          "name": "stdout",
          "text": [
            "Reading package lists... Done\n",
            "Building dependency tree       \n",
            "Reading state information... Done\n",
            "poppler-utils is already the newest version (0.86.1-0ubuntu1.1).\n",
            "0 upgraded, 0 newly installed, 0 to remove and 24 not upgraded.\n"
          ]
        }
      ]
    },
    {
      "cell_type": "code",
      "source": [
        "# Install libraries\n",
        "\n",
        "!pip install pdf2image"
      ],
      "metadata": {
        "colab": {
          "base_uri": "https://localhost:8080/"
        },
        "id": "TzeYLri6suWP",
        "outputId": "35447354-a84d-4c56-d166-d221949bbb22"
      },
      "execution_count": 20,
      "outputs": [
        {
          "output_type": "stream",
          "name": "stdout",
          "text": [
            "Looking in indexes: https://pypi.org/simple, https://us-python.pkg.dev/colab-wheels/public/simple/\n",
            "Requirement already satisfied: pdf2image in /usr/local/lib/python3.10/dist-packages (1.16.3)\n",
            "Requirement already satisfied: pillow in /usr/local/lib/python3.10/dist-packages (from pdf2image) (8.4.0)\n"
          ]
        }
      ]
    },
    {
      "cell_type": "markdown",
      "source": [
        "## Import libraries"
      ],
      "metadata": {
        "id": "wiCBcLjOxSOV"
      }
    },
    {
      "cell_type": "code",
      "source": [
        "# Import libraries\n",
        "\n",
        "from pdf2image import convert_from_path, convert_from_bytes\n",
        "from PIL import Image\n",
        "from io import BytesIO\n",
        "import math\n",
        "import os\n"
      ],
      "metadata": {
        "id": "QUyLo-27sraT"
      },
      "execution_count": 21,
      "outputs": []
    },
    {
      "cell_type": "markdown",
      "source": [
        "## Convert from PDF into images and back to PDF"
      ],
      "metadata": {
        "id": "6HDECMvwxWzW"
      }
    },
    {
      "cell_type": "code",
      "source": [
        "# Convert PDF into images and return the list of the paths\n",
        "\n",
        "image_list = convert_from_bytes(open(book_name, 'rb').read(), size=page_width, output_folder = output_folder, output_file = 'page', paths_only= True)\n",
        "print(image_list)"
      ],
      "metadata": {
        "colab": {
          "base_uri": "https://localhost:8080/"
        },
        "id": "vZhH7yFfu8aV",
        "outputId": "96f8da50-70ed-429f-e5e4-b53f0b0e1fc1"
      },
      "execution_count": 22,
      "outputs": [
        {
          "output_type": "stream",
          "name": "stdout",
          "text": [
            "['output_pages/page0001-001.ppm', 'output_pages/page0001-002.ppm', 'output_pages/page0001-003.ppm', 'output_pages/page0001-004.ppm', 'output_pages/page0001-005.ppm', 'output_pages/page0001-006.ppm', 'output_pages/page0001-007.ppm', 'output_pages/page0001-008.ppm', 'output_pages/page0001-009.ppm', 'output_pages/page0001-010.ppm', 'output_pages/page0001-011.ppm', 'output_pages/page0001-012.ppm', 'output_pages/page0001-013.ppm', 'output_pages/page0001-014.ppm', 'output_pages/page0001-015.ppm', 'output_pages/page0001-016.ppm', 'output_pages/page0001-017.ppm', 'output_pages/page0001-018.ppm', 'output_pages/page0001-019.ppm', 'output_pages/page0001-020.ppm', 'output_pages/page0001-021.ppm', 'output_pages/page0001-022.ppm', 'output_pages/page0001-023.ppm', 'output_pages/page0001-024.ppm', 'output_pages/page0001-025.ppm', 'output_pages/page0001-026.ppm', 'output_pages/page0001-027.ppm', 'output_pages/page0001-028.ppm', 'output_pages/page0001-029.ppm', 'output_pages/page0001-030.ppm', 'output_pages/page0001-031.ppm', 'output_pages/page0001-032.ppm', 'output_pages/page0001-033.ppm', 'output_pages/page0001-034.ppm', 'output_pages/page0001-035.ppm', 'output_pages/page0001-036.ppm', 'output_pages/page0001-037.ppm', 'output_pages/page0001-038.ppm', 'output_pages/page0001-039.ppm', 'output_pages/page0001-040.ppm', 'output_pages/page0001-041.ppm', 'output_pages/page0001-042.ppm', 'output_pages/page0001-043.ppm', 'output_pages/page0001-044.ppm', 'output_pages/page0001-045.ppm', 'output_pages/page0001-046.ppm', 'output_pages/page0001-047.ppm', 'output_pages/page0001-048.ppm', 'output_pages/page0001-049.ppm', 'output_pages/page0001-050.ppm', 'output_pages/page0001-051.ppm', 'output_pages/page0001-052.ppm', 'output_pages/page0001-053.ppm', 'output_pages/page0001-054.ppm', 'output_pages/page0001-055.ppm', 'output_pages/page0001-056.ppm', 'output_pages/page0001-057.ppm', 'output_pages/page0001-058.ppm', 'output_pages/page0001-059.ppm', 'output_pages/page0001-060.ppm', 'output_pages/page0001-061.ppm', 'output_pages/page0001-062.ppm', 'output_pages/page0001-063.ppm', 'output_pages/page0001-064.ppm', 'output_pages/page0001-065.ppm', 'output_pages/page0001-066.ppm', 'output_pages/page0001-067.ppm', 'output_pages/page0001-068.ppm', 'output_pages/page0001-069.ppm', 'output_pages/page0001-070.ppm', 'output_pages/page0001-071.ppm', 'output_pages/page0001-072.ppm', 'output_pages/page0001-073.ppm', 'output_pages/page0001-074.ppm', 'output_pages/page0001-075.ppm', 'output_pages/page0001-076.ppm', 'output_pages/page0001-077.ppm', 'output_pages/page0001-078.ppm', 'output_pages/page0001-079.ppm', 'output_pages/page0001-080.ppm', 'output_pages/page0001-081.ppm', 'output_pages/page0001-082.ppm', 'output_pages/page0001-083.ppm', 'output_pages/page0001-084.ppm', 'output_pages/page0001-085.ppm', 'output_pages/page0001-086.ppm', 'output_pages/page0001-087.ppm', 'output_pages/page0001-088.ppm', 'output_pages/page0001-089.ppm', 'output_pages/page0001-090.ppm', 'output_pages/page0001-091.ppm', 'output_pages/page0001-092.ppm', 'output_pages/page0001-093.ppm', 'output_pages/page0001-094.ppm', 'output_pages/page0001-095.ppm', 'output_pages/page0001-096.ppm', 'output_pages/page0001-097.ppm', 'output_pages/page0001-098.ppm', 'output_pages/page0001-099.ppm', 'output_pages/page0001-100.ppm', 'output_pages/page0001-101.ppm', 'output_pages/page0001-102.ppm', 'output_pages/page0001-103.ppm', 'output_pages/page0001-104.ppm', 'output_pages/page0001-105.ppm', 'output_pages/page0001-106.ppm', 'output_pages/page0001-107.ppm', 'output_pages/page0001-108.ppm', 'output_pages/page0001-109.ppm', 'output_pages/page0001-110.ppm', 'output_pages/page0001-111.ppm', 'output_pages/page0001-112.ppm', 'output_pages/page0001-113.ppm', 'output_pages/page0001-114.ppm', 'output_pages/page0001-115.ppm', 'output_pages/page0001-116.ppm', 'output_pages/page0001-117.ppm', 'output_pages/page0001-118.ppm', 'output_pages/page0001-119.ppm', 'output_pages/page0001-120.ppm', 'output_pages/page0001-121.ppm', 'output_pages/page0001-122.ppm', 'output_pages/page0001-123.ppm', 'output_pages/page0001-124.ppm', 'output_pages/page0001-125.ppm', 'output_pages/page0001-126.ppm', 'output_pages/page0001-127.ppm', 'output_pages/page0001-128.ppm', 'output_pages/page0001-129.ppm', 'output_pages/page0001-130.ppm', 'output_pages/page0001-131.ppm', 'output_pages/page0001-132.ppm', 'output_pages/page0001-133.ppm', 'output_pages/page0001-134.ppm', 'output_pages/page0001-135.ppm', 'output_pages/page0001-136.ppm', 'output_pages/page0001-137.ppm', 'output_pages/page0001-138.ppm', 'output_pages/page0001-139.ppm', 'output_pages/page0001-140.ppm', 'output_pages/page0001-141.ppm', 'output_pages/page0001-142.ppm', 'output_pages/page0001-143.ppm', 'output_pages/page0001-144.ppm', 'output_pages/page0001-145.ppm', 'output_pages/page0001-146.ppm', 'output_pages/page0001-147.ppm', 'output_pages/page0001-148.ppm', 'output_pages/page0001-149.ppm', 'output_pages/page0001-150.ppm', 'output_pages/page0001-151.ppm', 'output_pages/page0001-152.ppm', 'output_pages/page0001-153.ppm', 'output_pages/page0001-154.ppm', 'output_pages/page0001-155.ppm', 'output_pages/page0001-156.ppm', 'output_pages/page0001-157.ppm', 'output_pages/page0001-158.ppm', 'output_pages/page0001-159.ppm', 'output_pages/page0001-160.ppm', 'output_pages/page0001-161.ppm', 'output_pages/page0001-162.ppm', 'output_pages/page0001-163.ppm', 'output_pages/page0001-164.ppm', 'output_pages/page0001-165.ppm', 'output_pages/page0001-166.ppm', 'output_pages/page0001-167.ppm', 'output_pages/page0001-168.ppm', 'output_pages/page0001-169.ppm', 'output_pages/page0001-170.ppm', 'output_pages/page0001-171.ppm', 'output_pages/page0001-172.ppm', 'output_pages/page0001-173.ppm', 'output_pages/page0001-174.ppm', 'output_pages/page0001-175.ppm', 'output_pages/page0001-176.ppm', 'output_pages/page0001-177.ppm', 'output_pages/page0001-178.ppm', 'output_pages/page0001-179.ppm', 'output_pages/page0001-180.ppm', 'output_pages/page0001-181.ppm', 'output_pages/page0001-182.ppm']\n"
          ]
        }
      ]
    },
    {
      "cell_type": "code",
      "source": [
        "# Calculate the number of pages\n",
        "\n",
        "total_pages_cnt = len(image_list)\n",
        "\n",
        "print(total_pages_cnt)\n",
        "\n",
        "# If there's a limit for pages generated, cap the number of pages\n",
        "\n",
        "total_pages = min(last_page_pdf, total_pages_cnt)  \n",
        "print (total_pages)"
      ],
      "metadata": {
        "colab": {
          "base_uri": "https://localhost:8080/"
        },
        "id": "vMFVrruaj6SM",
        "outputId": "4cdbfb31-a53d-498e-ed5f-4c3459065255"
      },
      "execution_count": 23,
      "outputs": [
        {
          "output_type": "stream",
          "name": "stdout",
          "text": [
            "182\n",
            "100\n"
          ]
        }
      ]
    },
    {
      "cell_type": "code",
      "source": [
        "# Calculate the number of spreads\n",
        "\n",
        "if double_page:\n",
        "    if double_start == 1:\n",
        "        spread_number = math.ceil(total_pages / 2)\n",
        "    elif double_start == 2:\n",
        "        spread_number = math.ceil((total_pages + 1) / 2)\n",
        "    else:\n",
        "        print('Invalid value for double_start')\n",
        "else:\n",
        "    spread_number = total_pages\n",
        "\n",
        "print(f'Number of spreads: {spread_number}')"
      ],
      "metadata": {
        "colab": {
          "base_uri": "https://localhost:8080/"
        },
        "id": "DCm3whUskOxF",
        "outputId": "e90d3d06-d3aa-4275-df16-143cbf3683f8"
      },
      "execution_count": 24,
      "outputs": [
        {
          "output_type": "stream",
          "name": "stdout",
          "text": [
            "Number of spreads: 50\n"
          ]
        }
      ]
    },
    {
      "cell_type": "code",
      "source": [
        "# Assign page paths to spreads\n",
        "\n",
        "spread_list = []\n",
        "for i in range ( 1, spread_number + 1): \n",
        "  if double_page == False: \n",
        "    spread_list.append([image_list[i - 1]])\n",
        "  elif double_page == True and double_start == 1:\n",
        "    page_num_left = (i * 2) - 1\n",
        "    page_num_right = (i * 2) \n",
        "    if page_num_left == 0:\n",
        "      spread_list.append([image_list[page_num_right - 1] ])\n",
        "    elif page_num_right > total_pages:\n",
        "      spread_list.append([image_list[page_num_left - 1] ])\n",
        "    else:\n",
        "      spread_list.append([image_list[page_num_left - 1], image_list[page_num_right - 1]])\n",
        "  elif double_page == True and double_start == 2:\n",
        "    page_num_left = (i * 2) - 2\n",
        "    page_num_right = (i * 2) - 1\n",
        "    if page_num_left == 0:\n",
        "      spread_list.append([image_list[page_num_right - 1] ])\n",
        "    elif page_num_right > total_pages:\n",
        "      spread_list.append([image_list[page_num_left - 1]])\n",
        "    else:\n",
        "      spread_list.append([image_list[page_num_left - 1], image_list[page_num_right - 1]])\n",
        "\n",
        "print (spread_list)"
      ],
      "metadata": {
        "colab": {
          "base_uri": "https://localhost:8080/"
        },
        "id": "vGX8VnEvkxwX",
        "outputId": "cbb8b317-8f60-4028-a46e-cfede97eb285"
      },
      "execution_count": 25,
      "outputs": [
        {
          "output_type": "stream",
          "name": "stdout",
          "text": [
            "[['output_pages/page0001-001.ppm', 'output_pages/page0001-002.ppm'], ['output_pages/page0001-003.ppm', 'output_pages/page0001-004.ppm'], ['output_pages/page0001-005.ppm', 'output_pages/page0001-006.ppm'], ['output_pages/page0001-007.ppm', 'output_pages/page0001-008.ppm'], ['output_pages/page0001-009.ppm', 'output_pages/page0001-010.ppm'], ['output_pages/page0001-011.ppm', 'output_pages/page0001-012.ppm'], ['output_pages/page0001-013.ppm', 'output_pages/page0001-014.ppm'], ['output_pages/page0001-015.ppm', 'output_pages/page0001-016.ppm'], ['output_pages/page0001-017.ppm', 'output_pages/page0001-018.ppm'], ['output_pages/page0001-019.ppm', 'output_pages/page0001-020.ppm'], ['output_pages/page0001-021.ppm', 'output_pages/page0001-022.ppm'], ['output_pages/page0001-023.ppm', 'output_pages/page0001-024.ppm'], ['output_pages/page0001-025.ppm', 'output_pages/page0001-026.ppm'], ['output_pages/page0001-027.ppm', 'output_pages/page0001-028.ppm'], ['output_pages/page0001-029.ppm', 'output_pages/page0001-030.ppm'], ['output_pages/page0001-031.ppm', 'output_pages/page0001-032.ppm'], ['output_pages/page0001-033.ppm', 'output_pages/page0001-034.ppm'], ['output_pages/page0001-035.ppm', 'output_pages/page0001-036.ppm'], ['output_pages/page0001-037.ppm', 'output_pages/page0001-038.ppm'], ['output_pages/page0001-039.ppm', 'output_pages/page0001-040.ppm'], ['output_pages/page0001-041.ppm', 'output_pages/page0001-042.ppm'], ['output_pages/page0001-043.ppm', 'output_pages/page0001-044.ppm'], ['output_pages/page0001-045.ppm', 'output_pages/page0001-046.ppm'], ['output_pages/page0001-047.ppm', 'output_pages/page0001-048.ppm'], ['output_pages/page0001-049.ppm', 'output_pages/page0001-050.ppm'], ['output_pages/page0001-051.ppm', 'output_pages/page0001-052.ppm'], ['output_pages/page0001-053.ppm', 'output_pages/page0001-054.ppm'], ['output_pages/page0001-055.ppm', 'output_pages/page0001-056.ppm'], ['output_pages/page0001-057.ppm', 'output_pages/page0001-058.ppm'], ['output_pages/page0001-059.ppm', 'output_pages/page0001-060.ppm'], ['output_pages/page0001-061.ppm', 'output_pages/page0001-062.ppm'], ['output_pages/page0001-063.ppm', 'output_pages/page0001-064.ppm'], ['output_pages/page0001-065.ppm', 'output_pages/page0001-066.ppm'], ['output_pages/page0001-067.ppm', 'output_pages/page0001-068.ppm'], ['output_pages/page0001-069.ppm', 'output_pages/page0001-070.ppm'], ['output_pages/page0001-071.ppm', 'output_pages/page0001-072.ppm'], ['output_pages/page0001-073.ppm', 'output_pages/page0001-074.ppm'], ['output_pages/page0001-075.ppm', 'output_pages/page0001-076.ppm'], ['output_pages/page0001-077.ppm', 'output_pages/page0001-078.ppm'], ['output_pages/page0001-079.ppm', 'output_pages/page0001-080.ppm'], ['output_pages/page0001-081.ppm', 'output_pages/page0001-082.ppm'], ['output_pages/page0001-083.ppm', 'output_pages/page0001-084.ppm'], ['output_pages/page0001-085.ppm', 'output_pages/page0001-086.ppm'], ['output_pages/page0001-087.ppm', 'output_pages/page0001-088.ppm'], ['output_pages/page0001-089.ppm', 'output_pages/page0001-090.ppm'], ['output_pages/page0001-091.ppm', 'output_pages/page0001-092.ppm'], ['output_pages/page0001-093.ppm', 'output_pages/page0001-094.ppm'], ['output_pages/page0001-095.ppm', 'output_pages/page0001-096.ppm'], ['output_pages/page0001-097.ppm', 'output_pages/page0001-098.ppm'], ['output_pages/page0001-099.ppm', 'output_pages/page0001-100.ppm']]\n"
          ]
        }
      ]
    },
    {
      "cell_type": "code",
      "source": [
        "# Define function to generate name for the new PDF file \n",
        "\n",
        "def convert_book_name(filename):\n",
        "    base_name, extension = os.path.splitext(filename)\n",
        "    new_filename = base_name + \"_spreads\" + extension\n",
        "    return new_filename"
      ],
      "metadata": {
        "id": "ZxA72FxmohxE"
      },
      "execution_count": 26,
      "outputs": []
    },
    {
      "cell_type": "code",
      "source": [
        "# Save pictures as PDF\n",
        "\n",
        "book_name_spreads = convert_book_name(book_name)\n",
        "\n",
        "for index, spread_link in enumerate(spread_list):\n",
        "  \n",
        "  print(index + 1)\n",
        "\n",
        "  # If one page per spread, open one page:\n",
        "\n",
        "  if len(spread_link) == 1:\n",
        "    url_pic = spread_link[0]\n",
        "    img = Image.open(spread_link[0])\n",
        "        \n",
        "  # If two pages per spread, open two pages and merge them:\n",
        "\n",
        "  elif len(spread_link) == 2:\n",
        "    \n",
        "    # Open pictures\n",
        "    img1 = Image.open(spread_link[0])\n",
        "    img2 = Image.open(spread_link[1])\n",
        "    \n",
        "    # Resize the images to have the same height\n",
        "    height = min(img1.height, img2.height)\n",
        "    img1 = img1.resize((int(img1.width * height / img1.height), height))\n",
        "    img2 = img2.resize((int(img2.width * height / img2.height), height))\n",
        "\n",
        "    # Create a new image to hold the merged images\n",
        "    img = Image.new('RGB', (img1.width + img2.width, height))\n",
        "\n",
        "    # Paste the images side by side\n",
        "    img.paste(img1, (0, 0))\n",
        "    img.paste(img2, (img1.width, 0))\n",
        "\n",
        "    # Close intermediary pictures\n",
        "    img1.close()\n",
        "    img2.close()\n",
        "\n",
        "  else:\n",
        "    print(\"Wrong array\")\n",
        "    break\n",
        "\n",
        "  # Save into PDF (new for the first spread, append for subsequent ones)\n",
        "\n",
        "  if index == 0:\n",
        "    img.save(book_name_spreads, \"PDF\" ,resolution=100.0, append = False)\n",
        "  else:\n",
        "    img.save(book_name_spreads, \"PDF\" ,resolution=100.0, save_all=True, append = True)\n",
        "  img.close()\n",
        "\n",
        "print('Finished')"
      ],
      "metadata": {
        "colab": {
          "base_uri": "https://localhost:8080/"
        },
        "id": "i8oyu4o0ligK",
        "outputId": "6c85bc60-adf4-49f3-ed13-2c439be2b059"
      },
      "execution_count": 27,
      "outputs": [
        {
          "output_type": "stream",
          "name": "stdout",
          "text": [
            "1\n",
            "2\n",
            "3\n",
            "4\n",
            "5\n",
            "6\n",
            "7\n",
            "8\n",
            "9\n",
            "10\n",
            "11\n",
            "12\n",
            "13\n",
            "14\n",
            "15\n",
            "16\n",
            "17\n",
            "18\n",
            "19\n",
            "20\n",
            "21\n",
            "22\n",
            "23\n",
            "24\n",
            "25\n",
            "26\n",
            "27\n",
            "28\n",
            "29\n",
            "30\n",
            "31\n",
            "32\n",
            "33\n",
            "34\n",
            "35\n",
            "36\n",
            "37\n",
            "38\n",
            "39\n",
            "40\n",
            "41\n",
            "42\n",
            "43\n",
            "44\n",
            "45\n",
            "46\n",
            "47\n",
            "48\n",
            "49\n",
            "50\n",
            "Finished\n"
          ]
        }
      ]
    },
    {
      "cell_type": "markdown",
      "source": [
        "## Remove temp files using Shell"
      ],
      "metadata": {
        "id": "E_3MNI_S1x5n"
      }
    },
    {
      "cell_type": "code",
      "source": [
        "# Removing temp files\n",
        "\n",
        "!rm -r \"$output_folder\""
      ],
      "metadata": {
        "id": "BpEUo-l1p_ts"
      },
      "execution_count": 28,
      "outputs": []
    },
    {
      "cell_type": "markdown",
      "source": [
        "# Result"
      ],
      "metadata": {
        "id": "g95F212CqwgN"
      }
    },
    {
      "cell_type": "code",
      "source": [
        "# End messages\n",
        "\n",
        "print(result_ok)\n",
        "print('Spreads: ', spread_number)\n",
        "print('File generated: ', book_name_spreads)"
      ],
      "metadata": {
        "colab": {
          "base_uri": "https://localhost:8080/"
        },
        "id": "VqNdvkl7qy1L",
        "outputId": "21f34ac9-e3d9-4023-f464-da5820fc6327"
      },
      "execution_count": 29,
      "outputs": [
        {
          "output_type": "stream",
          "name": "stdout",
          "text": [
            "Finished\n",
            "Spreads:  50\n",
            "File generated:  MapsR_spreads.pdf\n"
          ]
        }
      ]
    }
  ]
}
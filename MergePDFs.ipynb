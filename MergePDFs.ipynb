{
  "nbformat": 4,
  "nbformat_minor": 0,
  "metadata": {
    "colab": {
      "provenance": [],
      "authorship_tag": "ABX9TyMt7P7pfSGxgHTwYtyYjWp+",
      "include_colab_link": true
    },
    "kernelspec": {
      "name": "python3",
      "display_name": "Python 3"
    },
    "language_info": {
      "name": "python"
    }
  },
  "cells": [
    {
      "cell_type": "markdown",
      "metadata": {
        "id": "view-in-github",
        "colab_type": "text"
      },
      "source": [
        "<a href=\"https://colab.research.google.com/github/olga-terekhova/pdf-utilities/blob/main/MergePDFs.ipynb\" target=\"_parent\"><img src=\"https://colab.research.google.com/assets/colab-badge.svg\" alt=\"Open In Colab\"/></a>"
      ]
    },
    {
      "cell_type": "markdown",
      "source": [
        "# Merge PDFs"
      ],
      "metadata": {
        "id": "7FslaXsyc8mT"
      }
    },
    {
      "cell_type": "markdown",
      "source": [
        "## How to use"
      ],
      "metadata": {
        "id": "PLdheihnb-K3"
      }
    },
    {
      "cell_type": "markdown",
      "source": [
        "To **merge** PDF files:  \n",
        "1) Prepare the PDF files that you want to merge. The utility will merge them in the alphabetical order. Rename files if needed.  \n",
        "2) Upload all pdf files that you want to merge into the root directory of Files area.  \n",
        "3) In the [Set parameters](#scrollTo=jAQ3-5A8kCPi&line=2&uniqifier=1) section, set the preferred name for the merged pdf.  \n",
        "4) In the [Set parameters](#scrollTo=jAQ3-5A8kCPi&line=2&uniqifier=1) section, set 'merge' for the choice between merge or delete (you may use the  dropdown field).  \n",
        "5) Run all cells in the notebook (Runtime - Run all or Ctrl-F9).  \n",
        "6) Download the output pdf from the Files area (Refresh to see the newly created merged file).\n",
        "\n",
        "If you need to merge another batch of files, **delete** current PDF files first.\n",
        "For that:  \n",
        "1) In the [Set parameters](#scrollTo=jAQ3-5A8kCPi&line=2&uniqifier=1) section, set 'delete' for the choice between merge or delete (you may use the dropdown field).  \n",
        "2) Run all cells in the notebook (Runtime - Run all or Ctrl-F9)."
      ],
      "metadata": {
        "id": "7c0yjd2FbHPW"
      }
    },
    {
      "cell_type": "markdown",
      "source": [
        "## Parameterize  "
      ],
      "metadata": {
        "id": "quoHBJ5Sb7za"
      }
    },
    {
      "cell_type": "code",
      "source": [
        "# @title Set parameters\n",
        "\n",
        "merged_pdf_path = 'merged.pdf' # @param {type:\"string\"}\n",
        "merge_or_delete = \"merge\" # @param [\"merge\", \"delete\"]\n",
        "\n",
        "print(merged_pdf_path)\n",
        "print(merge_or_delete)"
      ],
      "metadata": {
        "colab": {
          "base_uri": "https://localhost:8080/"
        },
        "id": "jAQ3-5A8kCPi",
        "outputId": "d80dd796-23ba-4029-bc90-af0eda773180"
      },
      "execution_count": 138,
      "outputs": [
        {
          "output_type": "stream",
          "name": "stdout",
          "text": [
            "merged.pdf\n",
            "merge\n"
          ]
        }
      ]
    },
    {
      "cell_type": "markdown",
      "source": [
        "## Code"
      ],
      "metadata": {
        "id": "YURd6iqDixQF"
      }
    },
    {
      "cell_type": "markdown",
      "source": [
        "### Install, import, initialize  "
      ],
      "metadata": {
        "id": "ED_0pyE7beZz"
      }
    },
    {
      "cell_type": "code",
      "source": [
        "!pip install -q PyPDF2"
      ],
      "metadata": {
        "id": "fdtPZqHMaAcV"
      },
      "execution_count": 139,
      "outputs": []
    },
    {
      "cell_type": "code",
      "source": [
        "import os\n",
        "import PyPDF2"
      ],
      "metadata": {
        "id": "r2TUFRqkbi9f"
      },
      "execution_count": 140,
      "outputs": []
    },
    {
      "cell_type": "markdown",
      "source": [
        "### Merge all PDF files in Files"
      ],
      "metadata": {
        "id": "NQqZEIf5dGam"
      }
    },
    {
      "cell_type": "code",
      "source": [
        "def merge_pdfs():\n",
        "  # create a list of all PDF files in the current directory\n",
        "\n",
        "  pdf_files = []\n",
        "  for filename in os.listdir():\n",
        "      if filename.endswith('.pdf'):\n",
        "          pdf_files.append(filename)\n",
        "\n",
        "  print(pdf_files)\n",
        "\n",
        "  if merged_pdf_path in pdf_files:\n",
        "    return \"File \" + merged_pdf_path + \" already exists. No action taken. Do you want to delete PDF files first?\"\n",
        "\n",
        "  if len(pdf_files) == 0:\n",
        "    return \"No PDF files found. No action taken.\"\n",
        "\n",
        "  # sort pdf_files in the alphabetical order\n",
        "\n",
        "  pdf_files.sort()\n",
        "  print(pdf_files)\n",
        "\n",
        "  # merge all the files in the pdf_files list into a single pdf\n",
        "\n",
        "  merger = PyPDF2.PdfMerger()\n",
        "\n",
        "  for filename in pdf_files:\n",
        "      merger.append(filename)\n",
        "\n",
        "  merger.write(merged_pdf_path)\n",
        "\n",
        "  # get the string of filenames in pdf_files\n",
        "  pdf_files_str = ', \\n'.join(pdf_files)\n",
        "\n",
        "  return \"Files merged:\\n\" + pdf_files_str + \" \\n\\nRefresh the Files area and locate \" + merged_pdf_path + \".\""
      ],
      "metadata": {
        "id": "dROfTmQRZtAy"
      },
      "execution_count": 141,
      "outputs": []
    },
    {
      "cell_type": "markdown",
      "source": [
        "### Delete all PDF files from Files"
      ],
      "metadata": {
        "id": "EQJXHl4og9Yo"
      }
    },
    {
      "cell_type": "code",
      "source": [
        "def delete_pdfs():\n",
        "\n",
        "  # create a list of all PDF files in the current directory\n",
        "\n",
        "  pdf_files = []\n",
        "  for filename in os.listdir():\n",
        "      if filename.endswith('.pdf'):\n",
        "          pdf_files.append(filename)\n",
        "\n",
        "  print(pdf_files)\n",
        "\n",
        "  if len(pdf_files) == 0:\n",
        "    return \"No PDF files found. No action taken.\"\n",
        "\n",
        "  # delete all files in the pdf_files\n",
        "\n",
        "  for filename in pdf_files:\n",
        "      os.remove(filename)\n",
        "\n",
        "  pdf_files_str = ', \\n'.join(pdf_files)\n",
        "\n",
        "  return \"Files deleted:\\n\" + pdf_files_str + \"\\n\\nRefresh the Files area and check that it has no PDF files.\""
      ],
      "metadata": {
        "id": "nFf3wdG6gqIP"
      },
      "execution_count": 142,
      "outputs": []
    },
    {
      "cell_type": "markdown",
      "source": [
        "### Run the chosen option"
      ],
      "metadata": {
        "id": "wqOM6IdfmqY_"
      }
    },
    {
      "cell_type": "code",
      "source": [
        "if merge_or_delete == \"merge\":\n",
        "  result = merge_pdfs()\n",
        "elif merge_or_delete == \"delete\":\n",
        "  result = delete_pdfs()"
      ],
      "metadata": {
        "colab": {
          "base_uri": "https://localhost:8080/"
        },
        "id": "KEFN879FmoMf",
        "outputId": "1f6e852d-72c8-4af3-d576-c7e90d5ab47b"
      },
      "execution_count": 143,
      "outputs": [
        {
          "output_type": "stream",
          "name": "stdout",
          "text": [
            "['1GMWC_Instructor-562-coins.pdf', '2GMWC_Instructor-562-notes-1.pdf', '2GMWC_Instructor-562-notes-2.pdf', 'merged.pdf']\n"
          ]
        }
      ]
    },
    {
      "cell_type": "markdown",
      "source": [
        "## Result"
      ],
      "metadata": {
        "id": "mSudwTQpnN2s"
      }
    },
    {
      "cell_type": "code",
      "source": [
        "print(result)"
      ],
      "metadata": {
        "colab": {
          "base_uri": "https://localhost:8080/"
        },
        "id": "g5PZrRt9nPox",
        "outputId": "48e48bac-93ef-4273-9a11-6b689af2a4ab"
      },
      "execution_count": 144,
      "outputs": [
        {
          "output_type": "stream",
          "name": "stdout",
          "text": [
            "File merged.pdf already exists. No action taken. Do you want to delete PDF files first?\n"
          ]
        }
      ]
    }
  ]
}
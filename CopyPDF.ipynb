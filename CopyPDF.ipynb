{
  "nbformat": 4,
  "nbformat_minor": 0,
  "metadata": {
    "colab": {
      "provenance": [],
      "authorship_tag": "ABX9TyMNZlD2+0SJeZwZSPgBa+94",
      "include_colab_link": true
    },
    "kernelspec": {
      "name": "python3",
      "display_name": "Python 3"
    },
    "language_info": {
      "name": "python"
    }
  },
  "cells": [
    {
      "cell_type": "markdown",
      "metadata": {
        "id": "view-in-github",
        "colab_type": "text"
      },
      "source": [
        "<a href=\"https://colab.research.google.com/github/olga-terekhova/pdf-utilities/blob/main/CopyPDF.ipynb\" target=\"_parent\"><img src=\"https://colab.research.google.com/assets/colab-badge.svg\" alt=\"Open In Colab\"/></a>"
      ]
    },
    {
      "cell_type": "markdown",
      "source": [
        "# Copy PDF"
      ],
      "metadata": {
        "id": "QATY_5426QX7"
      }
    },
    {
      "cell_type": "markdown",
      "source": [
        "## How to use"
      ],
      "metadata": {
        "id": "cDzvKMtO6S30"
      }
    },
    {
      "cell_type": "markdown",
      "source": [
        "To **copy** some pages from a PDF file into a new PDF file:  \n",
        "1) Prepare the PDF file that you want to copy.  \n",
        "2) Upload the pdf file that you want to copy into the root directory of Files area. Upload one file only. E.g. *input.pdf*.  \n",
        "3) In the [Set parameters](#scrollTo=XaMoALpy6JHx&line=7&uniqifier=1) section, set the preferred name for the copied pdf. E.g. *output.pdf*.   \n",
        "4) In the [Set parameters](#scrollTo=XaMoALpy6JHx&line=7&uniqifier=1) section, set *'copy'* for the choice between *copy* or *delete* (you may use the  dropdown field).   \n",
        "5) In the [Set parameters](#scrollTo=XaMoALpy6JHx&line=7&uniqifier=1) section, specify a range of pages to be copied. You can use comma (,) for individual pages or dash (-) for ranges. Spaces are allowed but not needed. E.g. *'1,3'* or *'1,5-7,9'* or *'4, 2,5-10'* each will create one new output file but with some pages dropped or reodered.      \n",
        "6) Run all cells in the notebook (Runtime - Run all or Ctrl-F9).  \n",
        "7) Download the output pdf from the Files area (Refresh to see the newly created copied file).\n",
        "\n",
        "\n",
        "If you need to copy another file, **delete** current PDF files first.\n",
        "For that:  \n",
        "1) In the [Set parameters](#scrollTo=XaMoALpy6JHx&line=7&uniqifier=1) section, set 'delete' for the choice between copy or delete (you may use the dropdown field).  \n",
        "2) Run all cells in the notebook (Runtime - Run all or Ctrl-F9).  "
      ],
      "metadata": {
        "id": "XjHkd6_W6XyT"
      }
    },
    {
      "cell_type": "code",
      "execution_count": 15,
      "metadata": {
        "colab": {
          "base_uri": "https://localhost:8080/"
        },
        "id": "XaMoALpy6JHx",
        "outputId": "02801fe8-06db-4400-f53f-d1dc2aa90f8f"
      },
      "outputs": [
        {
          "output_type": "stream",
          "name": "stdout",
          "text": [
            "output.pdf\n",
            "copy\n",
            "5,5,1-3\n"
          ]
        }
      ],
      "source": [
        "# @title Set parameters\n",
        "\n",
        "copied_pdf_path = 'output.pdf' # @param {type:\"string\"}\n",
        "copy_or_delete = \"copy\" # @param [\"copy\", \"delete\"]\n",
        "page_range = \"5,5,1-3\" # @param {type:\"string\"}\n",
        "\n",
        "print(copied_pdf_path)\n",
        "print(copy_or_delete)\n",
        "print(page_range)"
      ]
    },
    {
      "cell_type": "markdown",
      "source": [
        "## Code (you can collapse this section)"
      ],
      "metadata": {
        "id": "gcLg2L2y7jWs"
      }
    },
    {
      "cell_type": "markdown",
      "source": [
        "### Install, import, initialize  "
      ],
      "metadata": {
        "id": "bRxjUp1Q7m-6"
      }
    },
    {
      "cell_type": "code",
      "source": [
        "!pip install -q PyPDF2"
      ],
      "metadata": {
        "id": "gCu5akWe7rEF",
        "colab": {
          "base_uri": "https://localhost:8080/"
        },
        "outputId": "98be5bad-ae1b-463d-df48-83b719b8e78b"
      },
      "execution_count": 1,
      "outputs": [
        {
          "output_type": "stream",
          "name": "stdout",
          "text": [
            "\u001b[?25l   \u001b[90m━━━━━━━━━━━━━━━━━━━━━━━━━━━━━━━━━━━━━━━━\u001b[0m \u001b[32m0.0/232.6 kB\u001b[0m \u001b[31m?\u001b[0m eta \u001b[36m-:--:--\u001b[0m\r\u001b[2K   \u001b[91m━━━━━━━━━━━━━━━━━━━━━━━━━━━━━━━━━━━━━━\u001b[0m\u001b[91m╸\u001b[0m\u001b[90m━\u001b[0m \u001b[32m225.3/232.6 kB\u001b[0m \u001b[31m15.9 MB/s\u001b[0m eta \u001b[36m0:00:01\u001b[0m\r\u001b[2K   \u001b[90m━━━━━━━━━━━━━━━━━━━━━━━━━━━━━━━━━━━━━━━━\u001b[0m \u001b[32m232.6/232.6 kB\u001b[0m \u001b[31m3.8 MB/s\u001b[0m eta \u001b[36m0:00:00\u001b[0m\n",
            "\u001b[?25h"
          ]
        }
      ]
    },
    {
      "cell_type": "code",
      "source": [
        "import os\n",
        "import PyPDF2"
      ],
      "metadata": {
        "id": "zqM3wX-k7twr"
      },
      "execution_count": 3,
      "outputs": []
    },
    {
      "cell_type": "markdown",
      "source": [
        "### Rotate the PDF file"
      ],
      "metadata": {
        "id": "OVFOXea37wez"
      }
    },
    {
      "cell_type": "code",
      "source": [
        "def get_file():\n",
        "  \"\"\"\n",
        "  Get the first PDF file in the current directory.\n",
        "  Return the file name and a message.\n",
        "  \"\"\"\n",
        "  pdf_files = []\n",
        "  for filename in os.listdir():\n",
        "      if filename.endswith('.pdf'):\n",
        "          pdf_files.append(filename)\n",
        "\n",
        "  if copied_pdf_path in pdf_files:\n",
        "    return \"\", \"File \" + copied_pdf_path + \" already exists. No action taken. Do you want to delete PDF files first?\"\n",
        "\n",
        "  if len(pdf_files) == 0:\n",
        "    return \"\", \"No PDF files found. No action taken.\"\n",
        "\n",
        "  # sort pdf_files in the alphabetical order\n",
        "  pdf_files.sort()\n",
        "\n",
        "  # take the first PDF file\n",
        "  pdf_file = pdf_files[0]\n",
        "  print(pdf_file)\n",
        "\n",
        "  return pdf_file, \"OK\""
      ],
      "metadata": {
        "id": "KJeIcxTo9CH9"
      },
      "execution_count": 5,
      "outputs": []
    },
    {
      "cell_type": "code",
      "source": [
        "def parse_page_range(page_range):\n",
        "    \"\"\"\n",
        "    Parse a string like '2, 5-7,9' into a list of page numbers.\n",
        "    This list preserves the order for copying.\n",
        "\n",
        "    :param page_range: String representing the page range. Input by the user.\n",
        "    Return a list of page numbers (0-based).\n",
        "    \"\"\"\n",
        "\n",
        "    pages = []\n",
        "\n",
        "    # Remove all spaces from the input string\n",
        "    page_range = page_range.replace(' ', '')\n",
        "\n",
        "    # Split the string by commas\n",
        "    ranges = page_range.split(',')\n",
        "\n",
        "    for r in ranges:\n",
        "        if '-' in r:\n",
        "            start, end = map(int, r.split('-'))\n",
        "            pages.extend(range(start - 1, end))  # Convert to 0-based index\n",
        "        else:\n",
        "            pages.append(int(r) - 1)  # Convert to 0-based index\n",
        "\n",
        "\n",
        "    return pages"
      ],
      "metadata": {
        "id": "cxTLouX-8KOp"
      },
      "execution_count": 6,
      "outputs": []
    },
    {
      "cell_type": "code",
      "source": [
        "def copy_selected_pages(output_pdf, page_range):\n",
        "    \"\"\"\n",
        "    Copy selected pages in the PDF in the user-defined order.\n",
        "\n",
        "    :param output_pdf: Path to output PDF. Input by the user.\n",
        "    :param page_range: Pages to copy in string format (e.g., '2,5-7,9'). Input by the user.\n",
        "\n",
        "    Return a message.\n",
        "    \"\"\"\n",
        "\n",
        "    # Get the input PDF file (a first PDF file found in the root directory)\n",
        "    input_pdf, input_pdf_response = get_file()\n",
        "    if input_pdf == \"\":  # no file to process\n",
        "        print(input_pdf_response)\n",
        "        return input_pdf_response\n",
        "\n",
        "    # Parse the page range string\n",
        "    pages_to_copy = parse_page_range(page_range)  # Returns a list of pages to copy in the output PDF\n",
        "\n",
        "    # Open the PDF file\n",
        "    with open(input_pdf, 'rb') as file:\n",
        "        reader = PyPDF2.PdfReader(file)\n",
        "        writer = PyPDF2.PdfWriter()\n",
        "\n",
        "        # Loop through the list of user-selected pages and copy them\n",
        "        for page_num in pages_to_copy:\n",
        "            if page_num < len(reader.pages):  # Ensure the page number is within the document\n",
        "                writer.add_page(reader.pages[page_num])\n",
        "\n",
        "        # Write the copied pages to a new PDF\n",
        "        with open(output_pdf, 'wb') as output_file:\n",
        "            writer.write(output_file)\n",
        "\n",
        "    message = f\"Copied pages saved as:\\n{output_pdf}\\n\\nRefresh the Files area and locate {output_pdf}.\"\n",
        "    print(message)\n",
        "\n",
        "    return message"
      ],
      "metadata": {
        "id": "W3ebWHQI8u-3"
      },
      "execution_count": 8,
      "outputs": []
    },
    {
      "cell_type": "markdown",
      "source": [
        "### Delete all PDF files from Files"
      ],
      "metadata": {
        "id": "zIKXB37oB7Tu"
      }
    },
    {
      "cell_type": "code",
      "source": [
        "def delete_pdfs():\n",
        "  \"\"\"\n",
        "  Delete all PDF files in the current directory.\n",
        "  Return a message.\n",
        "  \"\"\"\n",
        "\n",
        "  # Create a list of all PDF files in the current directory\n",
        "  pdf_files = []\n",
        "  for filename in os.listdir():\n",
        "      if filename.endswith('.pdf'):\n",
        "          pdf_files.append(filename)\n",
        "\n",
        "  print(pdf_files)\n",
        "\n",
        "  if len(pdf_files) == 0:\n",
        "    return \"No PDF files found. No action taken.\"\n",
        "\n",
        "  # Delete all files in the pdf_files\n",
        "\n",
        "  for filename in pdf_files:\n",
        "      os.remove(filename)\n",
        "\n",
        "  pdf_files_str = ', \\n'.join(pdf_files)\n",
        "\n",
        "  return \"Files deleted:\\n\" + pdf_files_str + \"\\n\\nRefresh the Files area and check that it has no PDF files.\""
      ],
      "metadata": {
        "id": "lRBO3zNZB9bd"
      },
      "execution_count": 9,
      "outputs": []
    },
    {
      "cell_type": "markdown",
      "source": [
        "### Run the chosen option"
      ],
      "metadata": {
        "id": "1K1NMQo0Aw6E"
      }
    },
    {
      "cell_type": "code",
      "source": [
        "# Run the rotate or delete process depending on the user choice\n",
        "if copy_or_delete == \"copy\":\n",
        "  result = copy_selected_pages(copied_pdf_path, page_range)\n",
        "elif copy_or_delete == \"delete\":\n",
        "  result = delete_pdfs()\n",
        "\n"
      ],
      "metadata": {
        "colab": {
          "base_uri": "https://localhost:8080/"
        },
        "id": "yx_Dz-95AvnN",
        "outputId": "8afbcf66-e8d3-45e8-97c7-63802f7b1806"
      },
      "execution_count": 16,
      "outputs": [
        {
          "output_type": "stream",
          "name": "stdout",
          "text": [
            "Medical Forms - Filled.pdf\n",
            "Copied pages saved as:\n",
            "output.pdf\n",
            "\n",
            "Refresh the Files area and locate output.pdf.\n"
          ]
        }
      ]
    },
    {
      "cell_type": "markdown",
      "source": [
        "## Result"
      ],
      "metadata": {
        "id": "HjhAsEuICZ-s"
      }
    },
    {
      "cell_type": "code",
      "source": [
        "print(result)"
      ],
      "metadata": {
        "colab": {
          "base_uri": "https://localhost:8080/"
        },
        "id": "F2iRUT7cCcz5",
        "outputId": "5715f5ad-67c8-4c86-cb27-c6299cd06c3c"
      },
      "execution_count": 17,
      "outputs": [
        {
          "output_type": "stream",
          "name": "stdout",
          "text": [
            "Copied pages saved as:\n",
            "output.pdf\n",
            "\n",
            "Refresh the Files area and locate output.pdf.\n"
          ]
        }
      ]
    }
  ]
}
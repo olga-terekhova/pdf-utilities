{
  "nbformat": 4,
  "nbformat_minor": 0,
  "metadata": {
    "colab": {
      "provenance": [],
      "authorship_tag": "ABX9TyOKpJIEVEYGcqJAbgSJKGkU",
      "include_colab_link": true
    },
    "kernelspec": {
      "name": "python3",
      "display_name": "Python 3"
    },
    "language_info": {
      "name": "python"
    }
  },
  "cells": [
    {
      "cell_type": "markdown",
      "metadata": {
        "id": "view-in-github",
        "colab_type": "text"
      },
      "source": [
        "<a href=\"https://colab.research.google.com/github/olga-terekhova/pdf-utilities/blob/main/RotatePDF.ipynb\" target=\"_parent\"><img src=\"https://colab.research.google.com/assets/colab-badge.svg\" alt=\"Open In Colab\"/></a>"
      ]
    },
    {
      "cell_type": "markdown",
      "source": [
        "# Rotate PDF"
      ],
      "metadata": {
        "id": "QATY_5426QX7"
      }
    },
    {
      "cell_type": "markdown",
      "source": [
        "## How to use"
      ],
      "metadata": {
        "id": "cDzvKMtO6S30"
      }
    },
    {
      "cell_type": "markdown",
      "source": [
        "To **rotate** some pages in a PDF file once in a chosen direction:  \n",
        "1) Prepare the PDF file that you want to rotate.  \n",
        "2) Upload the pdf file that you want to rotate into the root directory of Files area. Upload one file only. E.g. *input.pdf*.  \n",
        "3) In the [Set parameters](#scrollTo=XaMoALpy6JHx&line=7&uniqifier=1) section, set the preferred name for the rotated pdf. E.g. *output.pdf*.   \n",
        "4) In the [Set parameters](#scrollTo=XaMoALpy6JHx&line=7&uniqifier=1) section, set *'rotate'* for the choice between *rotate* or *delete* (you may use the  dropdown field).  \n",
        "5) In the [Set parameters](#scrollTo=XaMoALpy6JHx&line=7&uniqifier=1) section, set *'clockwise'* or *'counterclockwise'* for the choice of direction (you may use the  dropdown field).  \n",
        "6) In the [Set parameters](#scrollTo=XaMoALpy6JHx&line=7&uniqifier=1) section, specify a range of pages to be rotated. You can use comma (,) for individual pages or dash (-) for ranges. Spaces are allowed but not needed. E.g. *'1,3'* or *'1,5-7,9'* or *'2, 4,5-10'*.     \n",
        "7) Run all cells in the notebook (Runtime - Run all or Ctrl-F9).  \n",
        "8) Download the output pdf from the Files area (Refresh to see the newly created rotated file).\n",
        "\n",
        "\n",
        "If you need to rotate another file, **delete** current PDF files first.\n",
        "For that:  \n",
        "1) In the [Set parameters](#scrollTo=XaMoALpy6JHx&line=7&uniqifier=1) section, set 'delete' for the choice between rotate or delete (you may use the dropdown field).  \n",
        "2) Run all cells in the notebook (Runtime - Run all or Ctrl-F9).  \n",
        "\n",
        "\n",
        "If you need to **rotate** pages in the same file in **different** directions or to **rotate** them **twice**:  \n",
        "1) Choose the direction for the first step and only select pages that need to be rotated in this direction.  \n",
        "2) Run the rotation. For example, *page 1* in *input.pdf* will be rotated clockwise and the result will be saved in *step1.pdf*.  \n",
        "3) In the Files area remove the original file (e.g. *input.pdf*) and set a new name for the output (e.g. *step2.pdf*). The output from the previous step (e.g. *step1.pdf*) will be a source for the next step.  \n",
        "4) If you need to rotate pages for the second time in the same direction, repeat the same rotation. For example, *page 1* in *step1.df* will be rotated clockwise again and the result will be saved in *step2.pdf*.  \n",
        "5) In the Files area remove the intermediary input file (e.g. *step1.pdf*) and set a new name for the output (e.g. *step3.pdf*). The output from the previous step (e.g. *step2.pdf*) will be a source for the next step.  \n",
        "6) If you need to rotate pages in a different direction, change the direction parameter and only select pages that need to be rotated in this direction.  \n",
        "7) Run the rotation. For example, *page 2* in *step2.pdf* will be rotated counter clockwise and the result will be stored in *step3.pdf*.  "
      ],
      "metadata": {
        "id": "XjHkd6_W6XyT"
      }
    },
    {
      "cell_type": "code",
      "execution_count": 35,
      "metadata": {
        "colab": {
          "base_uri": "https://localhost:8080/"
        },
        "id": "XaMoALpy6JHx",
        "outputId": "8d09c3b7-26ad-41d4-8589-59816ec25682"
      },
      "outputs": [
        {
          "output_type": "stream",
          "name": "stdout",
          "text": [
            "output.pdf\n",
            "delete\n",
            "counterclockwise\n",
            "4\n"
          ]
        }
      ],
      "source": [
        "# @title Set parameters\n",
        "\n",
        "rotated_pdf_path = 'output.pdf' # @param {type:\"string\"}\n",
        "rotate_or_delete = \"rotate\" # @param [\"rotate\", \"delete\"]\n",
        "direction = \"counterclockwise\" # @param [\"clockwise\", \"counterclockwise\"]\n",
        "page_range = \"4\" # @param {type:\"string\"}\n",
        "\n",
        "print(rotated_pdf_path)\n",
        "print(rotate_or_delete)\n",
        "print(direction)\n",
        "print(page_range)"
      ]
    },
    {
      "cell_type": "markdown",
      "source": [
        "## Code (you can collapse this section)"
      ],
      "metadata": {
        "id": "gcLg2L2y7jWs"
      }
    },
    {
      "cell_type": "markdown",
      "source": [
        "### Install, import, initialize  "
      ],
      "metadata": {
        "id": "bRxjUp1Q7m-6"
      }
    },
    {
      "cell_type": "code",
      "source": [
        "!pip install -q PyPDF2"
      ],
      "metadata": {
        "id": "gCu5akWe7rEF"
      },
      "execution_count": 36,
      "outputs": []
    },
    {
      "cell_type": "code",
      "source": [
        "import os\n",
        "import PyPDF2"
      ],
      "metadata": {
        "id": "zqM3wX-k7twr"
      },
      "execution_count": 37,
      "outputs": []
    },
    {
      "cell_type": "markdown",
      "source": [
        "### Rotate the PDF file"
      ],
      "metadata": {
        "id": "OVFOXea37wez"
      }
    },
    {
      "cell_type": "code",
      "source": [
        "def get_file():\n",
        "  \"\"\"\n",
        "  Get the first PDF file in the current directory.\n",
        "  Return the file name and a message.\n",
        "  \"\"\"\n",
        "  pdf_files = []\n",
        "  for filename in os.listdir():\n",
        "      if filename.endswith('.pdf'):\n",
        "          pdf_files.append(filename)\n",
        "\n",
        "  if rotated_pdf_path in pdf_files:\n",
        "    return \"\", \"File \" + rotated_pdf_path + \" already exists. No action taken. Do you want to delete PDF files first?\"\n",
        "\n",
        "  if len(pdf_files) == 0:\n",
        "    return \"\", \"No PDF files found. No action taken.\"\n",
        "\n",
        "  # sort pdf_files in the alphabetical order\n",
        "  pdf_files.sort()\n",
        "\n",
        "  # take the first PDF file\n",
        "  pdf_file = pdf_files[0]\n",
        "  print(pdf_file)\n",
        "\n",
        "  return pdf_file, \"OK\""
      ],
      "metadata": {
        "id": "KJeIcxTo9CH9"
      },
      "execution_count": 38,
      "outputs": []
    },
    {
      "cell_type": "code",
      "source": [
        "def parse_page_range(page_range):\n",
        "    \"\"\"\n",
        "    Parse a string like '2, 5-7,9' into a list of page numbers.\n",
        "\n",
        "    :param page_range: String representing the page range. Input by the user.\n",
        "    Return a list of page numbers (0-based).\n",
        "    \"\"\"\n",
        "\n",
        "    pages = set()\n",
        "\n",
        "    # Remove all spaces from the input string\n",
        "    page_range = page_range.replace(' ', '')\n",
        "\n",
        "    # Split the string by commas\n",
        "    ranges = page_range.split(',')\n",
        "\n",
        "    for r in ranges:\n",
        "        if '-' in r:\n",
        "            start, end = map(int, r.split('-'))\n",
        "            pages.update(range(start - 1, end))  # Convert to 0-based index\n",
        "        else:\n",
        "            pages.add(int(r) - 1)  # Convert to 0-based index\n",
        "\n",
        "\n",
        "    return sorted(pages)"
      ],
      "metadata": {
        "id": "cxTLouX-8KOp"
      },
      "execution_count": 39,
      "outputs": []
    },
    {
      "cell_type": "code",
      "source": [
        "def rotate_selected_pages(output_pdf, page_range, direction):\n",
        "    \"\"\"\n",
        "    Rotate selected pages in the PDF either 'clockwise' or 'counterclockwise'.\n",
        "\n",
        "    :param output_pdf: Path to output PDF. Input by the user.\n",
        "    :param page_range: Pages to rotate in string format (e.g., '2,5-7,9'). Input by the user.\n",
        "    :param direction: Direction of rotation ('clockwise' or 'counterclockwise'). Input by the user.\n",
        "\n",
        "    Return a message.\n",
        "    \"\"\"\n",
        "\n",
        "    # Get the input PDF file (a first PDF file found in the root directory)\n",
        "    input_pdf, input_pdf_response = get_file()\n",
        "    if input_pdf == \"\": # no file to process\n",
        "      print(input_pdf_response)\n",
        "      return input_pdf_response\n",
        "\n",
        "    # Parse the page range string\n",
        "    pages_to_rotate = parse_page_range(page_range)\n",
        "\n",
        "    # Open the PDF file\n",
        "    with open(input_pdf, 'rb') as file:\n",
        "        reader = PyPDF2.PdfReader(file)\n",
        "        writer = PyPDF2.PdfWriter()\n",
        "\n",
        "        # Set the rotation angle based on direction\n",
        "        if direction == 'clockwise':\n",
        "            angle = 90  # Clockwise rotation\n",
        "        elif direction == 'counterclockwise':\n",
        "            angle = -90  # Counterclockwise rotation\n",
        "        else:\n",
        "            raise ValueError(\"Direction must be either 'clockwise' or 'counterclockwise'\")\n",
        "\n",
        "\n",
        "        # Loop through all pages and rotate the selected ones\n",
        "        for page_num in range(len(reader.pages)):\n",
        "            page = reader.pages[page_num]\n",
        "\n",
        "            if page_num in pages_to_rotate:\n",
        "                page = page.rotate(angle)  # Rotate page by the specified angle\n",
        "\n",
        "            writer.add_page(page)\n",
        "\n",
        "        # Write the rotated pages to a new PDF\n",
        "        with open(output_pdf, 'wb') as output_file:\n",
        "            writer.write(output_file)\n",
        "\n",
        "    return \"Rotated pages saved as:\\n\" + output_pdf + \" \\n\\nRefresh the Files area and locate \" + output_pdf + \".\""
      ],
      "metadata": {
        "id": "W3ebWHQI8u-3"
      },
      "execution_count": 40,
      "outputs": []
    },
    {
      "cell_type": "markdown",
      "source": [
        "### Delete all PDF files from Files"
      ],
      "metadata": {
        "id": "zIKXB37oB7Tu"
      }
    },
    {
      "cell_type": "code",
      "source": [
        "def delete_pdfs():\n",
        "  \"\"\"\n",
        "  Delete all PDF files in the current directory.\n",
        "  Return a message.\n",
        "  \"\"\"\n",
        "\n",
        "  # Create a list of all PDF files in the current directory\n",
        "  pdf_files = []\n",
        "  for filename in os.listdir():\n",
        "      if filename.endswith('.pdf'):\n",
        "          pdf_files.append(filename)\n",
        "\n",
        "  print(pdf_files)\n",
        "\n",
        "  if len(pdf_files) == 0:\n",
        "    return \"No PDF files found. No action taken.\"\n",
        "\n",
        "  # Delete all files in the pdf_files\n",
        "\n",
        "  for filename in pdf_files:\n",
        "      os.remove(filename)\n",
        "\n",
        "  pdf_files_str = ', \\n'.join(pdf_files)\n",
        "\n",
        "  return \"Files deleted:\\n\" + pdf_files_str + \"\\n\\nRefresh the Files area and check that it has no PDF files.\""
      ],
      "metadata": {
        "id": "lRBO3zNZB9bd"
      },
      "execution_count": 41,
      "outputs": []
    },
    {
      "cell_type": "markdown",
      "source": [
        "### Run the chosen option"
      ],
      "metadata": {
        "id": "1K1NMQo0Aw6E"
      }
    },
    {
      "cell_type": "code",
      "source": [
        "# Run the rotate or delete process depending on the user choice\n",
        "if rotate_or_delete == \"rotate\":\n",
        "  result = rotate_selected_pages(rotated_pdf_path, page_range, direction)\n",
        "elif rotate_or_delete == \"delete\":\n",
        "  result = delete_pdfs()"
      ],
      "metadata": {
        "colab": {
          "base_uri": "https://localhost:8080/"
        },
        "id": "yx_Dz-95AvnN",
        "outputId": "e489c7f2-f617-408e-e563-86ab363e3687"
      },
      "execution_count": 42,
      "outputs": [
        {
          "output_type": "stream",
          "name": "stdout",
          "text": [
            "['Medical Forms - Filled.pdf', 'output.pdf']\n"
          ]
        }
      ]
    },
    {
      "cell_type": "markdown",
      "source": [
        "## Result"
      ],
      "metadata": {
        "id": "HjhAsEuICZ-s"
      }
    },
    {
      "cell_type": "code",
      "source": [
        "print(result)"
      ],
      "metadata": {
        "colab": {
          "base_uri": "https://localhost:8080/"
        },
        "id": "F2iRUT7cCcz5",
        "outputId": "4ac4138b-5946-46c7-93d9-30729fa3cf81"
      },
      "execution_count": 43,
      "outputs": [
        {
          "output_type": "stream",
          "name": "stdout",
          "text": [
            "Files deleted:\n",
            "Medical Forms - Filled.pdf, \n",
            "output.pdf\n",
            "\n",
            "Refresh the Files area and check that it has no PDF files.\n"
          ]
        }
      ]
    }
  ]
}
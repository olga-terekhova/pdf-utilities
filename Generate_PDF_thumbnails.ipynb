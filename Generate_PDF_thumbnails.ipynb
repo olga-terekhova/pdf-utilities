{
  "nbformat": 4,
  "nbformat_minor": 0,
  "metadata": {
    "colab": {
      "provenance": [],
      "authorship_tag": "ABX9TyM8RiZz0iKsVUDKZkNKghza",
      "include_colab_link": true
    },
    "kernelspec": {
      "name": "python3",
      "display_name": "Python 3"
    },
    "language_info": {
      "name": "python"
    }
  },
  "cells": [
    {
      "cell_type": "markdown",
      "metadata": {
        "id": "view-in-github",
        "colab_type": "text"
      },
      "source": [
        "<a href=\"https://colab.research.google.com/github/olga-terekhova/pdf-utilities/blob/main/Generate_PDF_thumbnails.ipynb\" target=\"_parent\"><img src=\"https://colab.research.google.com/assets/colab-badge.svg\" alt=\"Open In Colab\"/></a>"
      ]
    },
    {
      "cell_type": "code",
      "execution_count": 183,
      "metadata": {
        "colab": {
          "base_uri": "https://localhost:8080/"
        },
        "id": "87vv9jFoqCOa",
        "outputId": "fc82f0e7-3d61-4c65-cf06-2f602f96d958"
      },
      "outputs": [
        {
          "output_type": "stream",
          "name": "stdout",
          "text": [
            "Requirement already satisfied: PyMuPDF in /usr/local/lib/python3.12/dist-packages (1.26.4)\n"
          ]
        }
      ],
      "source": [
        "# initialize libraries\n",
        "!pip install PyMuPDF\n",
        "\n",
        "import fitz  # PyMuPDF\n",
        "from math import ceil, floor, sqrt"
      ]
    },
    {
      "cell_type": "code",
      "source": [
        "def choose_grid(\n",
        "    n,\n",
        "    target_ratio=1.294\n",
        "):\n",
        "    \"\"\"\n",
        "    Choose (rows, cols) to fit n thumbnails on a letter-like page.\n",
        "    Choose the grid with the rows : cols aspect ratio closest to target_ratio.\n",
        "    \"\"\"\n",
        "    if n <= 0:\n",
        "        raise ValueError(\"n must be a positive integer\")\n",
        "\n",
        "    best_aspect = None\n",
        "\n",
        "    for cols in range(1, n + 1):\n",
        "        rows = ceil(n / cols)\n",
        "        ratio = rows / cols\n",
        "        cells = rows * cols\n",
        "        score = abs(ratio - target_ratio)\n",
        "\n",
        "        if best_aspect is None or score < best_aspect[0]:\n",
        "          best_aspect = (score, (rows, cols))\n",
        "\n",
        "\n",
        "    return best_aspect[1]"
      ],
      "metadata": {
        "id": "0jusNVoEqYgv"
      },
      "execution_count": 184,
      "outputs": []
    },
    {
      "cell_type": "code",
      "source": [
        "def calc_max_num_per_page(\n",
        "    target_ratio=1.294, min_acceptable=50, max_acceptable=80\n",
        "    ):\n",
        "  \"\"\"\n",
        "  For a current page aspect ratio determine a maximum number of thumbnails\n",
        "  per page.\n",
        "  \"\"\"\n",
        "  min_value_x = floor(sqrt(min_acceptable/float(target_ratio)))\n",
        "  min_value_y = floor(sqrt(min_acceptable*float(target_ratio)))\n",
        "  max_value_x = ceil(sqrt(max_acceptable/float(target_ratio)))\n",
        "  max_value_y = ceil(sqrt(max_acceptable*float(target_ratio)))\n",
        "\n",
        "  best_num = None\n",
        "  best_ratio =  None\n",
        "  best_res = None\n",
        "  for x in range(min_value_x, max_value_x+1):\n",
        "    for y in range(min_value_y, max_value_y+1):\n",
        "      num = x*y\n",
        "      ratio = y/x\n",
        "      if best_res is None or abs(ratio - target_ratio) < abs(best_res[0] - target_ratio):\n",
        "        best_res = (ratio, num, (x,y))\n",
        "\n",
        "  res = (best_res[1], best_res[2])\n",
        "  return res"
      ],
      "metadata": {
        "id": "WJg3obxKSFah"
      },
      "execution_count": 185,
      "outputs": []
    },
    {
      "cell_type": "code",
      "source": [
        "def make_page_grid(\n",
        "    src_pdf, out_pdf,\n",
        "    page_size=(612, 792),  # Letter portrait\n",
        "    margin=36, gutter=10, caption_h=16,\n",
        "    heading_h = 64,\n",
        "    heading_font_size = 56,\n",
        "    heading_input = 'Thumbnails',\n",
        "    target_ratio=1.294,\n",
        "    font_size=9, dpi=300, jpeg_quality=90\n",
        "):\n",
        "    \"\"\"\n",
        "    Place the source pdf pages into a grid on every page of the output pdf.\n",
        "    \"\"\"\n",
        "    with fitz.open(src_pdf) as src, fitz.open() as dst:\n",
        "\n",
        "        # Define geometry of the destination page\n",
        "        pw, ph = page_size # page width, page height without heading\n",
        "        x0, y0 = margin, margin # margin on left, margin on top\n",
        "        yh = y0 + heading_h # heading position\n",
        "        x1, y1 = pw - margin, ph - margin # margin on right, margin on bottom\n",
        "        content_w, content_h = x1 - x0, y1 - yh # width/height of content without margins\n",
        "\n",
        "        # Get ratio of the destination page\n",
        "        target_ratio = content_h / content_w # target aspect ratio for the content area\n",
        "\n",
        "        # Determine number of pages and grid parameters\n",
        "        N = src.page_count\n",
        "        max_per_sheet, (rows_max, cols_max) = calc_max_num_per_page(target_ratio)\n",
        "\n",
        "        if N >= max_per_sheet:\n",
        "          per_sheet = max_per_sheet\n",
        "          rows, cols = rows_max, cols_max\n",
        "          num_sheets = ceil(N / per_sheet)\n",
        "        else:\n",
        "          rows, cols = choose_grid(N, target_ratio=target_ratio)\n",
        "          per_sheet = rows * cols\n",
        "          num_sheets = 1\n",
        "\n",
        "        # Define geometry of the cells\n",
        "        gx = gy = gutter # space between cells\n",
        "        cell_w = (content_w - (cols - 1) * gx) / cols  # cell width\n",
        "        cell_h = (content_h - (rows - 1) * gy) / rows  # cell height\n",
        "\n",
        "        # Generate a grid for every destination page\n",
        "        for sheet in range(num_sheets):\n",
        "            page = dst.new_page(width=pw, height=ph)\n",
        "\n",
        "            start_idx = sheet * per_sheet\n",
        "            end_idx = min(start_idx + per_sheet, N)\n",
        "            idx = start_idx\n",
        "\n",
        "            heading_str = heading_input\n",
        "            heading_rect = fitz.Rect(x0, y0, x1, yh)\n",
        "            page.insert_htmlbox(heading_rect, heading_str)\n",
        "\n",
        "            for r in range(rows):\n",
        "                for c in range(cols):\n",
        "                    if idx >= end_idx:\n",
        "                        break\n",
        "\n",
        "                    # Cell rect\n",
        "                    cx0 = x0 + c * (cell_w + gx)\n",
        "                    cy0 = yh + r * (cell_h + gy)\n",
        "                    cx1 = cx0 + cell_w\n",
        "                    cy1 = cy0 + cell_h\n",
        "\n",
        "                    caption_rect = fitz.Rect(cx0, cy1 - caption_h, cx1, cy1)\n",
        "                    image_rect = fitz.Rect(cx0, cy0, cx1, cy1 - caption_h)\n",
        "\n",
        "                    # Fit source page into image_rect\n",
        "                    src_page = src.load_page(idx)\n",
        "                    sw, sh = src_page.rect.width, src_page.rect.height\n",
        "                    src_ar = sw / sh\n",
        "                    img_w, img_h = image_rect.width, image_rect.height\n",
        "                    img_ar = img_w / img_h\n",
        "\n",
        "                    if src_ar >= img_ar:\n",
        "                        # width-limited\n",
        "                        draw_w = img_w\n",
        "                        draw_h = draw_w / src_ar\n",
        "                        dx = image_rect.x0\n",
        "                        dy = image_rect.y0 + (img_h - draw_h) / 2\n",
        "                    else:\n",
        "                        # height-limited\n",
        "                        draw_h = img_h\n",
        "                        draw_w = draw_h * src_ar\n",
        "                        dx = image_rect.x0 + (img_w - draw_w) / 2\n",
        "                        dy = image_rect.y0\n",
        "\n",
        "                    final_rect = fitz.Rect(dx, dy, dx + draw_w, dy + draw_h)\n",
        "\n",
        "                    # Place page thumbnail\n",
        "                    page.show_pdf_page(final_rect, src, idx)\n",
        "\n",
        "\n",
        "\n",
        "                    # Page number\n",
        "                    page.insert_textbox(caption_rect,str(idx + 1),\n",
        "                                        fontsize=font_size, fontname = \"times-roman\", align=1)\n",
        "\n",
        "                    idx += 1\n",
        "\n",
        "        dst.save(out_pdf)"
      ],
      "metadata": {
        "id": "w5f0V8GU69u5"
      },
      "execution_count": 186,
      "outputs": []
    },
    {
      "cell_type": "code",
      "source": [
        "make_page_grid(\"input.pdf\", \"output.pdf\")"
      ],
      "metadata": {
        "id": "NuWHPqSX9o10"
      },
      "execution_count": 187,
      "outputs": []
    }
  ]
}